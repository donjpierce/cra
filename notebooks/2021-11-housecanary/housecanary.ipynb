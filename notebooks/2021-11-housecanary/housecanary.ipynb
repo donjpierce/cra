{
 "cells": [
  {
   "cell_type": "code",
   "execution_count": 2,
   "outputs": [],
   "source": [
    "import os\n",
    "import pandas as pd\n",
    "from google.cloud import bigquery\n",
    "os.environ[\"GOOGLE_APPLICATION_CREDENTIALS\"] = \"../bigquery_creds.json\"\n",
    "client = bigquery.Client()         # Start the BigQuery Client\n",
    "# Input your Query Syntax here; You may try it first at https://console.cloud.google.com/bigquery\n",
    "QUERY = (\"\"\"\n",
    "    SELECT * FROM `housecanary-com.sample.block_value_ts` LIMIT 1000;\n",
    "\"\"\")\n",
    "query_job = client.query(QUERY)    # Start Query API Request\n",
    "query_result = query_job.result()  # Get Query Result\n",
    "df = query_result.to_dataframe()   # Save the Query Resultto Dataframe\n",
    "# ---------------------------------------------\n",
    "# ---- Continue Data Analysis with your DF ----\n",
    "# ---------------------------------------------"
   ],
   "metadata": {
    "collapsed": false,
    "pycharm": {
     "name": "#%%\n"
    }
   }
  },
  {
   "cell_type": "code",
   "execution_count": 3,
   "metadata": {
    "collapsed": true
   },
   "outputs": [
    {
     "data": {
      "text/plain": "            block_id property_type       month  value_50  value_sqft_50\n0    060750162003002           SFD  1993-05-01    518545         331.96\n1    060750162003002           SFD  1993-06-01    502384         322.20\n2    060750162003002           SFD  1993-07-01    487607         313.22\n3    060750162003002           SFD  1993-08-01    473339         304.49\n4    060750162003002           SFD  1993-09-01    458523         295.43\n..               ...           ...         ...       ...            ...\n995  060133373006007           SFD  1997-11-01    374300         184.34\n996  060133373006007           SFD  1997-12-01    377028         186.17\n997  060133373006007           SFD  1998-01-01    379962         188.12\n998  060133373006007           SFD  1998-02-01    383031         190.14\n999  060133373006007           SFD  1998-03-01    385934         192.02\n\n[1000 rows x 5 columns]",
      "text/html": "<div>\n<style scoped>\n    .dataframe tbody tr th:only-of-type {\n        vertical-align: middle;\n    }\n\n    .dataframe tbody tr th {\n        vertical-align: top;\n    }\n\n    .dataframe thead th {\n        text-align: right;\n    }\n</style>\n<table border=\"1\" class=\"dataframe\">\n  <thead>\n    <tr style=\"text-align: right;\">\n      <th></th>\n      <th>block_id</th>\n      <th>property_type</th>\n      <th>month</th>\n      <th>value_50</th>\n      <th>value_sqft_50</th>\n    </tr>\n  </thead>\n  <tbody>\n    <tr>\n      <th>0</th>\n      <td>060750162003002</td>\n      <td>SFD</td>\n      <td>1993-05-01</td>\n      <td>518545</td>\n      <td>331.96</td>\n    </tr>\n    <tr>\n      <th>1</th>\n      <td>060750162003002</td>\n      <td>SFD</td>\n      <td>1993-06-01</td>\n      <td>502384</td>\n      <td>322.20</td>\n    </tr>\n    <tr>\n      <th>2</th>\n      <td>060750162003002</td>\n      <td>SFD</td>\n      <td>1993-07-01</td>\n      <td>487607</td>\n      <td>313.22</td>\n    </tr>\n    <tr>\n      <th>3</th>\n      <td>060750162003002</td>\n      <td>SFD</td>\n      <td>1993-08-01</td>\n      <td>473339</td>\n      <td>304.49</td>\n    </tr>\n    <tr>\n      <th>4</th>\n      <td>060750162003002</td>\n      <td>SFD</td>\n      <td>1993-09-01</td>\n      <td>458523</td>\n      <td>295.43</td>\n    </tr>\n    <tr>\n      <th>...</th>\n      <td>...</td>\n      <td>...</td>\n      <td>...</td>\n      <td>...</td>\n      <td>...</td>\n    </tr>\n    <tr>\n      <th>995</th>\n      <td>060133373006007</td>\n      <td>SFD</td>\n      <td>1997-11-01</td>\n      <td>374300</td>\n      <td>184.34</td>\n    </tr>\n    <tr>\n      <th>996</th>\n      <td>060133373006007</td>\n      <td>SFD</td>\n      <td>1997-12-01</td>\n      <td>377028</td>\n      <td>186.17</td>\n    </tr>\n    <tr>\n      <th>997</th>\n      <td>060133373006007</td>\n      <td>SFD</td>\n      <td>1998-01-01</td>\n      <td>379962</td>\n      <td>188.12</td>\n    </tr>\n    <tr>\n      <th>998</th>\n      <td>060133373006007</td>\n      <td>SFD</td>\n      <td>1998-02-01</td>\n      <td>383031</td>\n      <td>190.14</td>\n    </tr>\n    <tr>\n      <th>999</th>\n      <td>060133373006007</td>\n      <td>SFD</td>\n      <td>1998-03-01</td>\n      <td>385934</td>\n      <td>192.02</td>\n    </tr>\n  </tbody>\n</table>\n<p>1000 rows × 5 columns</p>\n</div>"
     },
     "execution_count": 3,
     "metadata": {},
     "output_type": "execute_result"
    }
   ],
   "source": [
    "df"
   ]
  },
  {
   "cell_type": "code",
   "execution_count": null,
   "outputs": [],
   "source": [],
   "metadata": {
    "collapsed": false,
    "pycharm": {
     "name": "#%%\n"
    }
   }
  }
 ],
 "metadata": {
  "kernelspec": {
   "display_name": "Python 3",
   "language": "python",
   "name": "python3"
  },
  "language_info": {
   "codemirror_mode": {
    "name": "ipython",
    "version": 2
   },
   "file_extension": ".py",
   "mimetype": "text/x-python",
   "name": "python",
   "nbconvert_exporter": "python",
   "pygments_lexer": "ipython2",
   "version": "2.7.6"
  }
 },
 "nbformat": 4,
 "nbformat_minor": 0
}