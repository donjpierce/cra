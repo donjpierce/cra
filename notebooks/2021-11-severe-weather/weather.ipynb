{
 "cells": [
  {
   "cell_type": "code",
   "execution_count": 1,
   "metadata": {
    "collapsed": true
   },
   "outputs": [],
   "source": [
    "import os\n",
    "import pandas as pd\n",
    "from google.cloud import bigquery\n",
    "os.environ[\"GOOGLE_APPLICATION_CREDENTIALS\"] = \"bigquery_creds.json\"\n",
    "client = bigquery.Client()         # Start the BigQuery Client\n",
    "# Input your Query Syntax here; You may try it first at https://console.cloud.google.com/bigquery\n",
    "QUERY = (\"\"\"\n",
    "    SELECT *\n",
    "    FROM `bigquery-public-data.noaa_historic_severe_storms.storms_*`\n",
    "    limit 1;\n",
    "\"\"\")\n",
    "query_job = client.query(QUERY)    # Start Query API Request\n",
    "query_result = query_job.result()  # Get Query Result\n",
    "df = query_result.to_dataframe()   # Save the Query Resultto Dataframe\n",
    "# ---------------------------------------------\n",
    "# ---- Continue Data Analysis with your DF ----\n",
    "# ---------------------------------------------"
   ]
  },
  {
   "cell_type": "code",
   "execution_count": 2,
   "outputs": [
    {
     "data": {
      "text/plain": "  episode_id event_id    state state_fips_code event_type cz_type  \\\n0       None  9979424  Alabama               1    tornado       C   \n\n  cz_fips_code  cz_name   wfo    event_begin_time  ... tor_length tor_width  \\\n0           57  FAYETTE  None 1951-02-20 16:00:00  ...        0.1       123   \n\n   tor_other_wfo  location_index  event_range  event_azimuth  \\\n0           None            None          NaN           None   \n\n   reference_location  event_latitude event_longitude  event_point  \n0                None             NaN             NaN         None  \n\n[1 rows x 33 columns]",
      "text/html": "<div>\n<style scoped>\n    .dataframe tbody tr th:only-of-type {\n        vertical-align: middle;\n    }\n\n    .dataframe tbody tr th {\n        vertical-align: top;\n    }\n\n    .dataframe thead th {\n        text-align: right;\n    }\n</style>\n<table border=\"1\" class=\"dataframe\">\n  <thead>\n    <tr style=\"text-align: right;\">\n      <th></th>\n      <th>episode_id</th>\n      <th>event_id</th>\n      <th>state</th>\n      <th>state_fips_code</th>\n      <th>event_type</th>\n      <th>cz_type</th>\n      <th>cz_fips_code</th>\n      <th>cz_name</th>\n      <th>wfo</th>\n      <th>event_begin_time</th>\n      <th>...</th>\n      <th>tor_length</th>\n      <th>tor_width</th>\n      <th>tor_other_wfo</th>\n      <th>location_index</th>\n      <th>event_range</th>\n      <th>event_azimuth</th>\n      <th>reference_location</th>\n      <th>event_latitude</th>\n      <th>event_longitude</th>\n      <th>event_point</th>\n    </tr>\n  </thead>\n  <tbody>\n    <tr>\n      <th>0</th>\n      <td>None</td>\n      <td>9979424</td>\n      <td>Alabama</td>\n      <td>1</td>\n      <td>tornado</td>\n      <td>C</td>\n      <td>57</td>\n      <td>FAYETTE</td>\n      <td>None</td>\n      <td>1951-02-20 16:00:00</td>\n      <td>...</td>\n      <td>0.1</td>\n      <td>123</td>\n      <td>None</td>\n      <td>None</td>\n      <td>NaN</td>\n      <td>None</td>\n      <td>None</td>\n      <td>NaN</td>\n      <td>NaN</td>\n      <td>None</td>\n    </tr>\n  </tbody>\n</table>\n<p>1 rows × 33 columns</p>\n</div>"
     },
     "execution_count": 2,
     "metadata": {},
     "output_type": "execute_result"
    }
   ],
   "source": [
    "df"
   ],
   "metadata": {
    "collapsed": false,
    "pycharm": {
     "name": "#%%\n"
    }
   }
  },
  {
   "cell_type": "code",
   "execution_count": null,
   "outputs": [],
   "source": [],
   "metadata": {
    "collapsed": false,
    "pycharm": {
     "name": "#%%\n"
    }
   }
  }
 ],
 "metadata": {
  "kernelspec": {
   "display_name": "Python 3",
   "language": "python",
   "name": "python3"
  },
  "language_info": {
   "codemirror_mode": {
    "name": "ipython",
    "version": 2
   },
   "file_extension": ".py",
   "mimetype": "text/x-python",
   "name": "python",
   "nbconvert_exporter": "python",
   "pygments_lexer": "ipython2",
   "version": "2.7.6"
  }
 },
 "nbformat": 4,
 "nbformat_minor": 0
}