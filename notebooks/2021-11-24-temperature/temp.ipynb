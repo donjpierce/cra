{
 "cells": [
  {
   "cell_type": "code",
   "execution_count": 1,
   "metadata": {
    "collapsed": true
   },
   "outputs": [],
   "source": [
    "import os\n",
    "import pandas as pd\n",
    "from google.cloud import bigquery\n",
    "os.environ[\"GOOGLE_APPLICATION_CREDENTIALS\"] = \"../bigquery_creds.json\"\n",
    "client = bigquery.Client()         # Start the BigQuery Client\n",
    "# Input your Query Syntax here; You may try it first at https://console.cloud.google.com/bigquery\n",
    "QUERY = (\"\"\"\n",
    "    SELECT * FROM `weathersource-com.pub_weather_data_samples.sample_climatology_us_zipcode_daily_temperature` LIMIT 100;\n",
    "\"\"\")\n",
    "query_job = client.query(QUERY)    # Start Query API Request\n",
    "query_result = query_job.result()  # Get Query Result\n",
    "df = query_result.to_dataframe()   # Save the Query Resultto Dataframe\n",
    "# ---------------------------------------------\n",
    "# ---- Continue Data Analysis with your DF ----\n",
    "# ---------------------------------------------"
   ]
  },
  {
   "cell_type": "code",
   "execution_count": 2,
   "outputs": [
    {
     "data": {
      "text/plain": "   postal_code country  doy_std  avg_of__daily_avg_temperature_air_f\n0        08243      US      159                                  NaN\n1        98292      US      159                                  NaN\n2        02191      US      159                                  NaN\n3        97367      US      159                                 55.0\n4        13690      US      159                                 61.2\n..         ...     ...      ...                                  ...\n95       04649      US      159                                 55.7\n96       12701      US      159                                 63.7\n97       12751      US      159                                 63.7\n98       14865      US      159                                 65.9\n99       02804      US      159                                 64.3\n\n[100 rows x 4 columns]",
      "text/html": "<div>\n<style scoped>\n    .dataframe tbody tr th:only-of-type {\n        vertical-align: middle;\n    }\n\n    .dataframe tbody tr th {\n        vertical-align: top;\n    }\n\n    .dataframe thead th {\n        text-align: right;\n    }\n</style>\n<table border=\"1\" class=\"dataframe\">\n  <thead>\n    <tr style=\"text-align: right;\">\n      <th></th>\n      <th>postal_code</th>\n      <th>country</th>\n      <th>doy_std</th>\n      <th>avg_of__daily_avg_temperature_air_f</th>\n    </tr>\n  </thead>\n  <tbody>\n    <tr>\n      <th>0</th>\n      <td>08243</td>\n      <td>US</td>\n      <td>159</td>\n      <td>NaN</td>\n    </tr>\n    <tr>\n      <th>1</th>\n      <td>98292</td>\n      <td>US</td>\n      <td>159</td>\n      <td>NaN</td>\n    </tr>\n    <tr>\n      <th>2</th>\n      <td>02191</td>\n      <td>US</td>\n      <td>159</td>\n      <td>NaN</td>\n    </tr>\n    <tr>\n      <th>3</th>\n      <td>97367</td>\n      <td>US</td>\n      <td>159</td>\n      <td>55.0</td>\n    </tr>\n    <tr>\n      <th>4</th>\n      <td>13690</td>\n      <td>US</td>\n      <td>159</td>\n      <td>61.2</td>\n    </tr>\n    <tr>\n      <th>...</th>\n      <td>...</td>\n      <td>...</td>\n      <td>...</td>\n      <td>...</td>\n    </tr>\n    <tr>\n      <th>95</th>\n      <td>04649</td>\n      <td>US</td>\n      <td>159</td>\n      <td>55.7</td>\n    </tr>\n    <tr>\n      <th>96</th>\n      <td>12701</td>\n      <td>US</td>\n      <td>159</td>\n      <td>63.7</td>\n    </tr>\n    <tr>\n      <th>97</th>\n      <td>12751</td>\n      <td>US</td>\n      <td>159</td>\n      <td>63.7</td>\n    </tr>\n    <tr>\n      <th>98</th>\n      <td>14865</td>\n      <td>US</td>\n      <td>159</td>\n      <td>65.9</td>\n    </tr>\n    <tr>\n      <th>99</th>\n      <td>02804</td>\n      <td>US</td>\n      <td>159</td>\n      <td>64.3</td>\n    </tr>\n  </tbody>\n</table>\n<p>100 rows × 4 columns</p>\n</div>"
     },
     "execution_count": 2,
     "metadata": {},
     "output_type": "execute_result"
    }
   ],
   "source": [
    "df"
   ],
   "metadata": {
    "collapsed": false,
    "pycharm": {
     "name": "#%%\n"
    }
   }
  },
  {
   "cell_type": "code",
   "execution_count": null,
   "outputs": [],
   "source": [],
   "metadata": {
    "collapsed": false,
    "pycharm": {
     "name": "#%%\n"
    }
   }
  }
 ],
 "metadata": {
  "kernelspec": {
   "display_name": "Python 3",
   "language": "python",
   "name": "python3"
  },
  "language_info": {
   "codemirror_mode": {
    "name": "ipython",
    "version": 2
   },
   "file_extension": ".py",
   "mimetype": "text/x-python",
   "name": "python",
   "nbconvert_exporter": "python",
   "pygments_lexer": "ipython2",
   "version": "2.7.6"
  }
 },
 "nbformat": 4,
 "nbformat_minor": 0
}