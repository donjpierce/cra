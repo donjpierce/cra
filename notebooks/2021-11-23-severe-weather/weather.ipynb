{
 "cells": [
  {
   "cell_type": "code",
   "execution_count": 1,
   "metadata": {
    "collapsed": true
   },
   "outputs": [],
   "source": [
    "import os\n",
    "import pandas as pd\n",
    "from google.cloud import bigquery\n",
    "os.environ[\"GOOGLE_APPLICATION_CREDENTIALS\"] = \"../bigquery_creds.json\"\n",
    "client = bigquery.Client()         # Start the BigQuery Client\n",
    "# Input your Query Syntax here; You may try it first at https://console.cloud.google.com/bigquery\n",
    "QUERY = (\"\"\"\n",
    "    SELECT *\n",
    "    FROM `bigquery-public-data.noaa_historic_severe_storms.storms_*`\n",
    "    WHERE event_end_time > cast('2020-01-01' as datetime)\n",
    "    limit 10000000;\n",
    "\"\"\")\n",
    "query_job = client.query(QUERY)    # Start Query API Request\n",
    "query_result = query_job.result()  # Get Query Result\n",
    "weather_df = query_result.to_dataframe()   # Save the Query Resultto Dataframe\n",
    "# ---------------------------------------------\n",
    "# ---- Continue Data Analysis with your DF ----\n",
    "# ---------------------------------------------"
   ]
  },
  {
   "cell_type": "code",
   "execution_count": 2,
   "outputs": [
    {
     "data": {
      "text/plain": "                                     98124                92623  \\\nepisode_id                          150231               148199   \nevent_id                            918062               894194   \nstate                              Alabama               Kansas   \nstate_fips_code                          1                   20   \nevent_type               thunderstorm wind    thunderstorm wind   \ncz_type                                  C                    C   \ncz_fips_code                            33                  197   \ncz_name                            COLBERT            WABAUNSEE   \nwfo                                    HUN                  TOP   \nevent_begin_time       2020-08-27 15:13:00  2020-05-04 09:01:00   \nevent_timezone                       CST-6                CST-6   \nevent_end_time         2020-08-27 15:13:00  2020-05-04 09:02:00   \ninjuries_direct                          0                    0   \ninjuries_indirect                        0                    0   \ndeaths_direct                            0                    0   \ndeaths_indirect                          0                    0   \ndamage_property                      200.0                  0.0   \ndamage_crops                           0.0                  0.0   \nsource                     911 Call Center               Public   \nmagnitude                             43.0                 63.0   \nmagnitude_type                          EG                   EG   \nflood_cause                           None                 None   \ntor_f_scale                           None                 None   \ntor_length                            None                 None   \ntor_width                                0                    0   \ntor_other_wfo                         None                 None   \nlocation_index                           1                    1   \nevent_range                           0.89                 4.94   \nevent_azimuth                           SW                  NNW   \nreference_location               SHEFFIELD              NEWBURY   \nevent_latitude                      34.762                39.14   \nevent_longitude                   -87.7122               -96.22   \nevent_point         POINT(-87.7122 34.762)  POINT(-96.22 39.14)   \n\n                                  47953  \nepisode_id                       146388  \nevent_id                         879711  \nstate                        New jersey  \nstate_fips_code                      34  \nevent_type                         hail  \ncz_type                               C  \ncz_fips_code                         25  \ncz_name                        MONMOUTH  \nwfo                                 PHI  \nevent_begin_time    2020-04-21 13:52:00  \nevent_timezone                    EST-5  \nevent_end_time      2020-04-21 13:52:00  \ninjuries_direct                       0  \ninjuries_indirect                     0  \ndeaths_direct                         0  \ndeaths_indirect                       0  \ndamage_property                     0.0  \ndamage_crops                        0.0  \nsource                  Trained Spotter  \nmagnitude                          0.75  \nmagnitude_type                     None  \nflood_cause                        None  \ntor_f_scale                        None  \ntor_length                         None  \ntor_width                             0  \ntor_other_wfo                      None  \nlocation_index                        1  \nevent_range                        0.87  \nevent_azimuth                        SE  \nreference_location             FREEHOLD  \nevent_latitude                    40.26  \nevent_longitude                  -74.27  \nevent_point         POINT(-74.27 40.26)  ",
      "text/html": "<div>\n<style scoped>\n    .dataframe tbody tr th:only-of-type {\n        vertical-align: middle;\n    }\n\n    .dataframe tbody tr th {\n        vertical-align: top;\n    }\n\n    .dataframe thead th {\n        text-align: right;\n    }\n</style>\n<table border=\"1\" class=\"dataframe\">\n  <thead>\n    <tr style=\"text-align: right;\">\n      <th></th>\n      <th>98124</th>\n      <th>92623</th>\n      <th>47953</th>\n    </tr>\n  </thead>\n  <tbody>\n    <tr>\n      <th>episode_id</th>\n      <td>150231</td>\n      <td>148199</td>\n      <td>146388</td>\n    </tr>\n    <tr>\n      <th>event_id</th>\n      <td>918062</td>\n      <td>894194</td>\n      <td>879711</td>\n    </tr>\n    <tr>\n      <th>state</th>\n      <td>Alabama</td>\n      <td>Kansas</td>\n      <td>New jersey</td>\n    </tr>\n    <tr>\n      <th>state_fips_code</th>\n      <td>1</td>\n      <td>20</td>\n      <td>34</td>\n    </tr>\n    <tr>\n      <th>event_type</th>\n      <td>thunderstorm wind</td>\n      <td>thunderstorm wind</td>\n      <td>hail</td>\n    </tr>\n    <tr>\n      <th>cz_type</th>\n      <td>C</td>\n      <td>C</td>\n      <td>C</td>\n    </tr>\n    <tr>\n      <th>cz_fips_code</th>\n      <td>33</td>\n      <td>197</td>\n      <td>25</td>\n    </tr>\n    <tr>\n      <th>cz_name</th>\n      <td>COLBERT</td>\n      <td>WABAUNSEE</td>\n      <td>MONMOUTH</td>\n    </tr>\n    <tr>\n      <th>wfo</th>\n      <td>HUN</td>\n      <td>TOP</td>\n      <td>PHI</td>\n    </tr>\n    <tr>\n      <th>event_begin_time</th>\n      <td>2020-08-27 15:13:00</td>\n      <td>2020-05-04 09:01:00</td>\n      <td>2020-04-21 13:52:00</td>\n    </tr>\n    <tr>\n      <th>event_timezone</th>\n      <td>CST-6</td>\n      <td>CST-6</td>\n      <td>EST-5</td>\n    </tr>\n    <tr>\n      <th>event_end_time</th>\n      <td>2020-08-27 15:13:00</td>\n      <td>2020-05-04 09:02:00</td>\n      <td>2020-04-21 13:52:00</td>\n    </tr>\n    <tr>\n      <th>injuries_direct</th>\n      <td>0</td>\n      <td>0</td>\n      <td>0</td>\n    </tr>\n    <tr>\n      <th>injuries_indirect</th>\n      <td>0</td>\n      <td>0</td>\n      <td>0</td>\n    </tr>\n    <tr>\n      <th>deaths_direct</th>\n      <td>0</td>\n      <td>0</td>\n      <td>0</td>\n    </tr>\n    <tr>\n      <th>deaths_indirect</th>\n      <td>0</td>\n      <td>0</td>\n      <td>0</td>\n    </tr>\n    <tr>\n      <th>damage_property</th>\n      <td>200.0</td>\n      <td>0.0</td>\n      <td>0.0</td>\n    </tr>\n    <tr>\n      <th>damage_crops</th>\n      <td>0.0</td>\n      <td>0.0</td>\n      <td>0.0</td>\n    </tr>\n    <tr>\n      <th>source</th>\n      <td>911 Call Center</td>\n      <td>Public</td>\n      <td>Trained Spotter</td>\n    </tr>\n    <tr>\n      <th>magnitude</th>\n      <td>43.0</td>\n      <td>63.0</td>\n      <td>0.75</td>\n    </tr>\n    <tr>\n      <th>magnitude_type</th>\n      <td>EG</td>\n      <td>EG</td>\n      <td>None</td>\n    </tr>\n    <tr>\n      <th>flood_cause</th>\n      <td>None</td>\n      <td>None</td>\n      <td>None</td>\n    </tr>\n    <tr>\n      <th>tor_f_scale</th>\n      <td>None</td>\n      <td>None</td>\n      <td>None</td>\n    </tr>\n    <tr>\n      <th>tor_length</th>\n      <td>None</td>\n      <td>None</td>\n      <td>None</td>\n    </tr>\n    <tr>\n      <th>tor_width</th>\n      <td>0</td>\n      <td>0</td>\n      <td>0</td>\n    </tr>\n    <tr>\n      <th>tor_other_wfo</th>\n      <td>None</td>\n      <td>None</td>\n      <td>None</td>\n    </tr>\n    <tr>\n      <th>location_index</th>\n      <td>1</td>\n      <td>1</td>\n      <td>1</td>\n    </tr>\n    <tr>\n      <th>event_range</th>\n      <td>0.89</td>\n      <td>4.94</td>\n      <td>0.87</td>\n    </tr>\n    <tr>\n      <th>event_azimuth</th>\n      <td>SW</td>\n      <td>NNW</td>\n      <td>SE</td>\n    </tr>\n    <tr>\n      <th>reference_location</th>\n      <td>SHEFFIELD</td>\n      <td>NEWBURY</td>\n      <td>FREEHOLD</td>\n    </tr>\n    <tr>\n      <th>event_latitude</th>\n      <td>34.762</td>\n      <td>39.14</td>\n      <td>40.26</td>\n    </tr>\n    <tr>\n      <th>event_longitude</th>\n      <td>-87.7122</td>\n      <td>-96.22</td>\n      <td>-74.27</td>\n    </tr>\n    <tr>\n      <th>event_point</th>\n      <td>POINT(-87.7122 34.762)</td>\n      <td>POINT(-96.22 39.14)</td>\n      <td>POINT(-74.27 40.26)</td>\n    </tr>\n  </tbody>\n</table>\n</div>"
     },
     "execution_count": 2,
     "metadata": {},
     "output_type": "execute_result"
    }
   ],
   "source": [
    "weather_df.sample(3).T"
   ],
   "metadata": {
    "collapsed": false,
    "pycharm": {
     "name": "#%%\n"
    }
   }
  },
  {
   "cell_type": "code",
   "execution_count": 3,
   "outputs": [],
   "source": [
    "events = weather_df[['event_begin_time', 'event_end_time']].drop_duplicates()"
   ],
   "metadata": {
    "collapsed": false,
    "pycharm": {
     "name": "#%%\n"
    }
   }
  },
  {
   "cell_type": "code",
   "execution_count": 4,
   "outputs": [
    {
     "data": {
      "text/plain": "72693"
     },
     "execution_count": 4,
     "metadata": {},
     "output_type": "execute_result"
    }
   ],
   "source": [
    "len(events)"
   ],
   "metadata": {
    "collapsed": false,
    "pycharm": {
     "name": "#%%\n"
    }
   }
  },
  {
   "cell_type": "code",
   "execution_count": 5,
   "outputs": [
    {
     "data": {
      "text/plain": "Timestamp('2021-08-31 23:59:00')"
     },
     "execution_count": 5,
     "metadata": {},
     "output_type": "execute_result"
    }
   ],
   "source": [
    "events.event_end_time.max()"
   ],
   "metadata": {
    "collapsed": false,
    "pycharm": {
     "name": "#%%\n"
    }
   }
  },
  {
   "cell_type": "code",
   "execution_count": 6,
   "outputs": [
    {
     "data": {
      "text/plain": "Index(['episode_id', 'event_id', 'state', 'state_fips_code', 'event_type',\n       'cz_type', 'cz_fips_code', 'cz_name', 'wfo', 'event_begin_time',\n       'event_timezone', 'event_end_time', 'injuries_direct',\n       'injuries_indirect', 'deaths_direct', 'deaths_indirect',\n       'damage_property', 'damage_crops', 'source', 'magnitude',\n       'magnitude_type', 'flood_cause', 'tor_f_scale', 'tor_length',\n       'tor_width', 'tor_other_wfo', 'location_index', 'event_range',\n       'event_azimuth', 'reference_location', 'event_latitude',\n       'event_longitude', 'event_point'],\n      dtype='object')"
     },
     "execution_count": 6,
     "metadata": {},
     "output_type": "execute_result"
    }
   ],
   "source": [
    "weather_df.columns"
   ],
   "metadata": {
    "collapsed": false,
    "pycharm": {
     "name": "#%%\n"
    }
   }
  },
  {
   "cell_type": "code",
   "execution_count": 7,
   "outputs": [
    {
     "data": {
      "text/plain": "                       event_type\n0                            hail\n5597                         heat\n6737                        flood\n8156                        sleet\n8170                      drought\n10765                     tornado\n11738                    blizzard\n11902                    wildfire\n12137                   avalanche\n12161                   dense fog\n12534                   high surf\n12793                   high wind\n14979                   hurricane\n15017                   ice storm\n15379                   lightning\n15582                  dust storm\n15662                  heavy rain\n16757                  heavy snow\n18195                  waterspout\n18322                 debris flow\n18490                 flash flood\n22222                 marine hail\n22241                 rip current\n22334                 sneakerwave\n22336                 strong wind\n22902                freezing fog\n22913                frost/freeze\n23354                funnel cloud\n23497                winter storm\n25963               coastal flood\n26027              excessive heat\n26583              tropical storm\n26822              winter weather\n30115             cold/wind chill\n30725             lakeshore flood\n30730            lake-effect snow\n30773            marine dense fog\n30775            marine high wind\n30799            storm surge/tide\n30842           thunderstorm wind\n43901          marine strong wind\n43904         tropical depression\n43934       astronomical low tide\n43954       marine tropical storm\n44040     extreme cold/wind chill\n44932    marine hurricane/typhoon\n44943    marine thunderstorm wind\n47043  marine tropical depression\n58504                      seiche\n68500                  dust devil\n72118                 dense smoke",
      "text/html": "<div>\n<style scoped>\n    .dataframe tbody tr th:only-of-type {\n        vertical-align: middle;\n    }\n\n    .dataframe tbody tr th {\n        vertical-align: top;\n    }\n\n    .dataframe thead th {\n        text-align: right;\n    }\n</style>\n<table border=\"1\" class=\"dataframe\">\n  <thead>\n    <tr style=\"text-align: right;\">\n      <th></th>\n      <th>event_type</th>\n    </tr>\n  </thead>\n  <tbody>\n    <tr>\n      <th>0</th>\n      <td>hail</td>\n    </tr>\n    <tr>\n      <th>5597</th>\n      <td>heat</td>\n    </tr>\n    <tr>\n      <th>6737</th>\n      <td>flood</td>\n    </tr>\n    <tr>\n      <th>8156</th>\n      <td>sleet</td>\n    </tr>\n    <tr>\n      <th>8170</th>\n      <td>drought</td>\n    </tr>\n    <tr>\n      <th>10765</th>\n      <td>tornado</td>\n    </tr>\n    <tr>\n      <th>11738</th>\n      <td>blizzard</td>\n    </tr>\n    <tr>\n      <th>11902</th>\n      <td>wildfire</td>\n    </tr>\n    <tr>\n      <th>12137</th>\n      <td>avalanche</td>\n    </tr>\n    <tr>\n      <th>12161</th>\n      <td>dense fog</td>\n    </tr>\n    <tr>\n      <th>12534</th>\n      <td>high surf</td>\n    </tr>\n    <tr>\n      <th>12793</th>\n      <td>high wind</td>\n    </tr>\n    <tr>\n      <th>14979</th>\n      <td>hurricane</td>\n    </tr>\n    <tr>\n      <th>15017</th>\n      <td>ice storm</td>\n    </tr>\n    <tr>\n      <th>15379</th>\n      <td>lightning</td>\n    </tr>\n    <tr>\n      <th>15582</th>\n      <td>dust storm</td>\n    </tr>\n    <tr>\n      <th>15662</th>\n      <td>heavy rain</td>\n    </tr>\n    <tr>\n      <th>16757</th>\n      <td>heavy snow</td>\n    </tr>\n    <tr>\n      <th>18195</th>\n      <td>waterspout</td>\n    </tr>\n    <tr>\n      <th>18322</th>\n      <td>debris flow</td>\n    </tr>\n    <tr>\n      <th>18490</th>\n      <td>flash flood</td>\n    </tr>\n    <tr>\n      <th>22222</th>\n      <td>marine hail</td>\n    </tr>\n    <tr>\n      <th>22241</th>\n      <td>rip current</td>\n    </tr>\n    <tr>\n      <th>22334</th>\n      <td>sneakerwave</td>\n    </tr>\n    <tr>\n      <th>22336</th>\n      <td>strong wind</td>\n    </tr>\n    <tr>\n      <th>22902</th>\n      <td>freezing fog</td>\n    </tr>\n    <tr>\n      <th>22913</th>\n      <td>frost/freeze</td>\n    </tr>\n    <tr>\n      <th>23354</th>\n      <td>funnel cloud</td>\n    </tr>\n    <tr>\n      <th>23497</th>\n      <td>winter storm</td>\n    </tr>\n    <tr>\n      <th>25963</th>\n      <td>coastal flood</td>\n    </tr>\n    <tr>\n      <th>26027</th>\n      <td>excessive heat</td>\n    </tr>\n    <tr>\n      <th>26583</th>\n      <td>tropical storm</td>\n    </tr>\n    <tr>\n      <th>26822</th>\n      <td>winter weather</td>\n    </tr>\n    <tr>\n      <th>30115</th>\n      <td>cold/wind chill</td>\n    </tr>\n    <tr>\n      <th>30725</th>\n      <td>lakeshore flood</td>\n    </tr>\n    <tr>\n      <th>30730</th>\n      <td>lake-effect snow</td>\n    </tr>\n    <tr>\n      <th>30773</th>\n      <td>marine dense fog</td>\n    </tr>\n    <tr>\n      <th>30775</th>\n      <td>marine high wind</td>\n    </tr>\n    <tr>\n      <th>30799</th>\n      <td>storm surge/tide</td>\n    </tr>\n    <tr>\n      <th>30842</th>\n      <td>thunderstorm wind</td>\n    </tr>\n    <tr>\n      <th>43901</th>\n      <td>marine strong wind</td>\n    </tr>\n    <tr>\n      <th>43904</th>\n      <td>tropical depression</td>\n    </tr>\n    <tr>\n      <th>43934</th>\n      <td>astronomical low tide</td>\n    </tr>\n    <tr>\n      <th>43954</th>\n      <td>marine tropical storm</td>\n    </tr>\n    <tr>\n      <th>44040</th>\n      <td>extreme cold/wind chill</td>\n    </tr>\n    <tr>\n      <th>44932</th>\n      <td>marine hurricane/typhoon</td>\n    </tr>\n    <tr>\n      <th>44943</th>\n      <td>marine thunderstorm wind</td>\n    </tr>\n    <tr>\n      <th>47043</th>\n      <td>marine tropical depression</td>\n    </tr>\n    <tr>\n      <th>58504</th>\n      <td>seiche</td>\n    </tr>\n    <tr>\n      <th>68500</th>\n      <td>dust devil</td>\n    </tr>\n    <tr>\n      <th>72118</th>\n      <td>dense smoke</td>\n    </tr>\n  </tbody>\n</table>\n</div>"
     },
     "execution_count": 7,
     "metadata": {},
     "output_type": "execute_result"
    }
   ],
   "source": [
    "weather_df[['event_type']].drop_duplicates()"
   ],
   "metadata": {
    "collapsed": false,
    "pycharm": {
     "name": "#%%\n"
    }
   }
  },
  {
   "cell_type": "code",
   "execution_count": 8,
   "outputs": [
    {
     "data": {
      "text/plain": "                          source\n0                         Public\n4                Broadcast Media\n5                   Social Media\n6         Fire Department/Rescue\n7                  COOP Observer\n10               Trained Spotter\n14             Emergency Manager\n18                      CoCoRaHS\n37                  Storm Chaser\n41                 Amateur Radio\n45               County Official\n60          Other Federal Agency\n111              Law Enforcement\n128                 NWS Employee\n145              911 Call Center\n179               Local Official\n810                  Post Office\n879          Park/Forest Service\n893    Official NWS Observations\n927       Department of Highways\n1200           River/Stream Gage\n1810            NWS Storm Survey\n2481                   Newspaper\n3044              State Official\n3985           Insurance Company\n4053                     Unknown\n4385                        ASOS\n5597                     Mesonet\n5621                        AWOS\n5698                        RAWS\n7142             Utility Company\n8170             Drought Monitor\n11981            Tribal Official\n12292                  Lifeguard\n12534                       Buoy\n13681                Coast Guard\n13688                    Mariner\n14450              C-MAN Station\n16765                     SNOTEL\n18204             Airplane Pilot\n22637                       AWSS\n30799                       WLON\n79394              SHAVE Project",
      "text/html": "<div>\n<style scoped>\n    .dataframe tbody tr th:only-of-type {\n        vertical-align: middle;\n    }\n\n    .dataframe tbody tr th {\n        vertical-align: top;\n    }\n\n    .dataframe thead th {\n        text-align: right;\n    }\n</style>\n<table border=\"1\" class=\"dataframe\">\n  <thead>\n    <tr style=\"text-align: right;\">\n      <th></th>\n      <th>source</th>\n    </tr>\n  </thead>\n  <tbody>\n    <tr>\n      <th>0</th>\n      <td>Public</td>\n    </tr>\n    <tr>\n      <th>4</th>\n      <td>Broadcast Media</td>\n    </tr>\n    <tr>\n      <th>5</th>\n      <td>Social Media</td>\n    </tr>\n    <tr>\n      <th>6</th>\n      <td>Fire Department/Rescue</td>\n    </tr>\n    <tr>\n      <th>7</th>\n      <td>COOP Observer</td>\n    </tr>\n    <tr>\n      <th>10</th>\n      <td>Trained Spotter</td>\n    </tr>\n    <tr>\n      <th>14</th>\n      <td>Emergency Manager</td>\n    </tr>\n    <tr>\n      <th>18</th>\n      <td>CoCoRaHS</td>\n    </tr>\n    <tr>\n      <th>37</th>\n      <td>Storm Chaser</td>\n    </tr>\n    <tr>\n      <th>41</th>\n      <td>Amateur Radio</td>\n    </tr>\n    <tr>\n      <th>45</th>\n      <td>County Official</td>\n    </tr>\n    <tr>\n      <th>60</th>\n      <td>Other Federal Agency</td>\n    </tr>\n    <tr>\n      <th>111</th>\n      <td>Law Enforcement</td>\n    </tr>\n    <tr>\n      <th>128</th>\n      <td>NWS Employee</td>\n    </tr>\n    <tr>\n      <th>145</th>\n      <td>911 Call Center</td>\n    </tr>\n    <tr>\n      <th>179</th>\n      <td>Local Official</td>\n    </tr>\n    <tr>\n      <th>810</th>\n      <td>Post Office</td>\n    </tr>\n    <tr>\n      <th>879</th>\n      <td>Park/Forest Service</td>\n    </tr>\n    <tr>\n      <th>893</th>\n      <td>Official NWS Observations</td>\n    </tr>\n    <tr>\n      <th>927</th>\n      <td>Department of Highways</td>\n    </tr>\n    <tr>\n      <th>1200</th>\n      <td>River/Stream Gage</td>\n    </tr>\n    <tr>\n      <th>1810</th>\n      <td>NWS Storm Survey</td>\n    </tr>\n    <tr>\n      <th>2481</th>\n      <td>Newspaper</td>\n    </tr>\n    <tr>\n      <th>3044</th>\n      <td>State Official</td>\n    </tr>\n    <tr>\n      <th>3985</th>\n      <td>Insurance Company</td>\n    </tr>\n    <tr>\n      <th>4053</th>\n      <td>Unknown</td>\n    </tr>\n    <tr>\n      <th>4385</th>\n      <td>ASOS</td>\n    </tr>\n    <tr>\n      <th>5597</th>\n      <td>Mesonet</td>\n    </tr>\n    <tr>\n      <th>5621</th>\n      <td>AWOS</td>\n    </tr>\n    <tr>\n      <th>5698</th>\n      <td>RAWS</td>\n    </tr>\n    <tr>\n      <th>7142</th>\n      <td>Utility Company</td>\n    </tr>\n    <tr>\n      <th>8170</th>\n      <td>Drought Monitor</td>\n    </tr>\n    <tr>\n      <th>11981</th>\n      <td>Tribal Official</td>\n    </tr>\n    <tr>\n      <th>12292</th>\n      <td>Lifeguard</td>\n    </tr>\n    <tr>\n      <th>12534</th>\n      <td>Buoy</td>\n    </tr>\n    <tr>\n      <th>13681</th>\n      <td>Coast Guard</td>\n    </tr>\n    <tr>\n      <th>13688</th>\n      <td>Mariner</td>\n    </tr>\n    <tr>\n      <th>14450</th>\n      <td>C-MAN Station</td>\n    </tr>\n    <tr>\n      <th>16765</th>\n      <td>SNOTEL</td>\n    </tr>\n    <tr>\n      <th>18204</th>\n      <td>Airplane Pilot</td>\n    </tr>\n    <tr>\n      <th>22637</th>\n      <td>AWSS</td>\n    </tr>\n    <tr>\n      <th>30799</th>\n      <td>WLON</td>\n    </tr>\n    <tr>\n      <th>79394</th>\n      <td>SHAVE Project</td>\n    </tr>\n  </tbody>\n</table>\n</div>"
     },
     "execution_count": 8,
     "metadata": {},
     "output_type": "execute_result"
    }
   ],
   "source": [
    "weather_df[['source']].drop_duplicates()"
   ],
   "metadata": {
    "collapsed": false,
    "pycharm": {
     "name": "#%%\n"
    }
   }
  },
  {
   "cell_type": "code",
   "execution_count": 9,
   "outputs": [
    {
     "data": {
      "text/plain": "       wfo\n0      HGX\n3      JAN\n6      TWC\n7      LUB\n8      TSA\n...    ...\n12615  EKA\n12756  ASO\n13991  LOX\n14086  BOI\n18207  KEY\n\n[123 rows x 1 columns]",
      "text/html": "<div>\n<style scoped>\n    .dataframe tbody tr th:only-of-type {\n        vertical-align: middle;\n    }\n\n    .dataframe tbody tr th {\n        vertical-align: top;\n    }\n\n    .dataframe thead th {\n        text-align: right;\n    }\n</style>\n<table border=\"1\" class=\"dataframe\">\n  <thead>\n    <tr style=\"text-align: right;\">\n      <th></th>\n      <th>wfo</th>\n    </tr>\n  </thead>\n  <tbody>\n    <tr>\n      <th>0</th>\n      <td>HGX</td>\n    </tr>\n    <tr>\n      <th>3</th>\n      <td>JAN</td>\n    </tr>\n    <tr>\n      <th>6</th>\n      <td>TWC</td>\n    </tr>\n    <tr>\n      <th>7</th>\n      <td>LUB</td>\n    </tr>\n    <tr>\n      <th>8</th>\n      <td>TSA</td>\n    </tr>\n    <tr>\n      <th>...</th>\n      <td>...</td>\n    </tr>\n    <tr>\n      <th>12615</th>\n      <td>EKA</td>\n    </tr>\n    <tr>\n      <th>12756</th>\n      <td>ASO</td>\n    </tr>\n    <tr>\n      <th>13991</th>\n      <td>LOX</td>\n    </tr>\n    <tr>\n      <th>14086</th>\n      <td>BOI</td>\n    </tr>\n    <tr>\n      <th>18207</th>\n      <td>KEY</td>\n    </tr>\n  </tbody>\n</table>\n<p>123 rows × 1 columns</p>\n</div>"
     },
     "execution_count": 9,
     "metadata": {},
     "output_type": "execute_result"
    }
   ],
   "source": [
    "weather_df[['wfo']].drop_duplicates()"
   ],
   "metadata": {
    "collapsed": false,
    "pycharm": {
     "name": "#%%\n"
    }
   }
  },
  {
   "cell_type": "code",
   "execution_count": 10,
   "outputs": [
    {
     "data": {
      "text/plain": "                                50662                74988  \\\nevent_id                       891597               920516   \nevent_type                       hail          flash flood   \nevent_begin_time  2020-06-04 17:00:00  2020-09-10 12:34:00   \nevent_end_time    2020-06-04 17:00:00  2020-09-10 15:00:00   \ncz_fips_code                        5                   31   \nstate_fips_code                    56                   24   \nevent_latitude                   44.8              39.0287   \nevent_longitude                -105.5             -77.0871   \nevent_duration        0 days 00:00:00      0 days 02:26:00   \n\n                                65147  \nevent_id                       885388  \nevent_type                  high wind  \nevent_begin_time  2020-04-12 10:20:00  \nevent_end_time    2020-04-12 15:30:00  \ncz_fips_code                       47  \nstate_fips_code                    20  \nevent_latitude                    NaN  \nevent_longitude                   NaN  \nevent_duration        0 days 05:10:00  ",
      "text/html": "<div>\n<style scoped>\n    .dataframe tbody tr th:only-of-type {\n        vertical-align: middle;\n    }\n\n    .dataframe tbody tr th {\n        vertical-align: top;\n    }\n\n    .dataframe thead th {\n        text-align: right;\n    }\n</style>\n<table border=\"1\" class=\"dataframe\">\n  <thead>\n    <tr style=\"text-align: right;\">\n      <th></th>\n      <th>50662</th>\n      <th>74988</th>\n      <th>65147</th>\n    </tr>\n  </thead>\n  <tbody>\n    <tr>\n      <th>event_id</th>\n      <td>891597</td>\n      <td>920516</td>\n      <td>885388</td>\n    </tr>\n    <tr>\n      <th>event_type</th>\n      <td>hail</td>\n      <td>flash flood</td>\n      <td>high wind</td>\n    </tr>\n    <tr>\n      <th>event_begin_time</th>\n      <td>2020-06-04 17:00:00</td>\n      <td>2020-09-10 12:34:00</td>\n      <td>2020-04-12 10:20:00</td>\n    </tr>\n    <tr>\n      <th>event_end_time</th>\n      <td>2020-06-04 17:00:00</td>\n      <td>2020-09-10 15:00:00</td>\n      <td>2020-04-12 15:30:00</td>\n    </tr>\n    <tr>\n      <th>cz_fips_code</th>\n      <td>5</td>\n      <td>31</td>\n      <td>47</td>\n    </tr>\n    <tr>\n      <th>state_fips_code</th>\n      <td>56</td>\n      <td>24</td>\n      <td>20</td>\n    </tr>\n    <tr>\n      <th>event_latitude</th>\n      <td>44.8</td>\n      <td>39.0287</td>\n      <td>NaN</td>\n    </tr>\n    <tr>\n      <th>event_longitude</th>\n      <td>-105.5</td>\n      <td>-77.0871</td>\n      <td>NaN</td>\n    </tr>\n    <tr>\n      <th>event_duration</th>\n      <td>0 days 00:00:00</td>\n      <td>0 days 02:26:00</td>\n      <td>0 days 05:10:00</td>\n    </tr>\n  </tbody>\n</table>\n</div>"
     },
     "execution_count": 10,
     "metadata": {},
     "output_type": "execute_result"
    }
   ],
   "source": [
    "pd.options.mode.chained_assignment = None\n",
    "# num of severe weather events and their duration by fips\n",
    "d = weather_df[['event_id', 'event_type', 'event_begin_time', 'event_end_time', 'cz_fips_code', 'state_fips_code', 'event_latitude', 'event_longitude']]\n",
    "d['event_duration'] = d['event_end_time'] - d['event_begin_time']\n",
    "d.sample(3).T"
   ],
   "metadata": {
    "collapsed": false,
    "pycharm": {
     "name": "#%%\n"
    }
   }
  },
  {
   "cell_type": "code",
   "execution_count": 11,
   "outputs": [
    {
     "data": {
      "text/plain": "              event_id   event_duration\ncz_fips_code                           \n1                 1821 30 days 23:59:00\n10                 488 30 days 23:59:00\n100                 69 12 days 00:00:00\n101                738 30 days 23:59:00\n102                117 30 days 23:59:00\n...                ...              ...\n95                 645 30 days 23:59:00\n96                  76 30 days 23:59:00\n97                 653 30 days 23:59:00\n98                  83 30 days 23:59:00\n99                 848 30 days 23:59:00\n\n[561 rows x 2 columns]",
      "text/html": "<div>\n<style scoped>\n    .dataframe tbody tr th:only-of-type {\n        vertical-align: middle;\n    }\n\n    .dataframe tbody tr th {\n        vertical-align: top;\n    }\n\n    .dataframe thead th {\n        text-align: right;\n    }\n</style>\n<table border=\"1\" class=\"dataframe\">\n  <thead>\n    <tr style=\"text-align: right;\">\n      <th></th>\n      <th>event_id</th>\n      <th>event_duration</th>\n    </tr>\n    <tr>\n      <th>cz_fips_code</th>\n      <th></th>\n      <th></th>\n    </tr>\n  </thead>\n  <tbody>\n    <tr>\n      <th>1</th>\n      <td>1821</td>\n      <td>30 days 23:59:00</td>\n    </tr>\n    <tr>\n      <th>10</th>\n      <td>488</td>\n      <td>30 days 23:59:00</td>\n    </tr>\n    <tr>\n      <th>100</th>\n      <td>69</td>\n      <td>12 days 00:00:00</td>\n    </tr>\n    <tr>\n      <th>101</th>\n      <td>738</td>\n      <td>30 days 23:59:00</td>\n    </tr>\n    <tr>\n      <th>102</th>\n      <td>117</td>\n      <td>30 days 23:59:00</td>\n    </tr>\n    <tr>\n      <th>...</th>\n      <td>...</td>\n      <td>...</td>\n    </tr>\n    <tr>\n      <th>95</th>\n      <td>645</td>\n      <td>30 days 23:59:00</td>\n    </tr>\n    <tr>\n      <th>96</th>\n      <td>76</td>\n      <td>30 days 23:59:00</td>\n    </tr>\n    <tr>\n      <th>97</th>\n      <td>653</td>\n      <td>30 days 23:59:00</td>\n    </tr>\n    <tr>\n      <th>98</th>\n      <td>83</td>\n      <td>30 days 23:59:00</td>\n    </tr>\n    <tr>\n      <th>99</th>\n      <td>848</td>\n      <td>30 days 23:59:00</td>\n    </tr>\n  </tbody>\n</table>\n<p>561 rows × 2 columns</p>\n</div>"
     },
     "execution_count": 11,
     "metadata": {},
     "output_type": "execute_result"
    }
   ],
   "source": [
    "d.groupby(['cz_fips_code']).agg({'event_id': 'count', 'event_duration': 'max'})"
   ],
   "metadata": {
    "collapsed": false,
    "pycharm": {
     "name": "#%%\n"
    }
   }
  },
  {
   "cell_type": "code",
   "execution_count": 35,
   "outputs": [],
   "source": [
    "import geopy\n",
    "import pandas as pd\n",
    "from geopy.extra.rate_limiter import RateLimiter\n",
    "from geopy.exc import GeocoderUnavailable, GeocoderRateLimited\n",
    "from time import sleep\n",
    "\n",
    "\n",
    "def get_zipcode(row, lat_lon_field):\n",
    "    geolocator = geopy.Nominatim(user_agent='cra')\n",
    "    lat_lon = tuple(row[lat_lon_field].split('_'))\n",
    "    location = geolocator.reverse(lat_lon)\n",
    "    raw = location.raw\n",
    "    if 'address' in raw.keys():\n",
    "        if 'postcode' in raw['address'].keys():\n",
    "            return {'postcode': raw['address']['postcode']}\n",
    "        else:\n",
    "            return raw['address']\n",
    "    else:\n",
    "        return raw\n"
   ],
   "metadata": {
    "collapsed": false,
    "pycharm": {
     "name": "#%%\n"
    }
   }
  },
  {
   "cell_type": "code",
   "execution_count": 13,
   "outputs": [
    {
     "data": {
      "text/plain": "       episode_id event_id           state state_fips_code  \\\n0          154212   929077           Texas              48   \n1          154212   929080           Texas              48   \n2          154212   929079           Texas              48   \n3          154418   930323     Mississippi              28   \n4          154418   930324     Mississippi              28   \n...           ...      ...             ...             ...   \n107810     155390   937267       E pacific              86   \n107811     151265   913996  Atlantic south              87   \n107812     152468   918364  Atlantic south              87   \n107813     152468   918365  Atlantic south              87   \n107814     153628   924958  Atlantic south              87   \n\n                        event_type cz_type cz_fips_code  \\\n0                             hail       C           39   \n1                             hail       C          167   \n2                             hail       C          167   \n3                             hail       C           29   \n4                             hail       C          101   \n...                            ...     ...          ...   \n107810    marine thunderstorm wind       Z          655   \n107811  marine tropical depression       Z          630   \n107812  marine tropical depression       Z          671   \n107813  marine tropical depression       Z          670   \n107814  marine tropical depression       Z          610   \n\n                                                  cz_name  wfo  \\\n0                                                BRAZORIA  HGX   \n1                                               GALVESTON  HGX   \n2                                               GALVESTON  HGX   \n3                                                  COPIAH  JAN   \n4                                                  NEWTON  JAN   \n...                                                   ...  ...   \n107810  INNER WATERS FROM POINT MUGU TO SAN MATEO POIN...  LOX   \n107811                                       BISCAYNE BAY  MFL   \n107812        DEERFIELD BEACH TO OCEAN REEF FL 20 TO 60NM  MFL   \n107813     JUPITER INLET TO DEERFIELD BEACH FL 20 TO 60NM  MFL   \n107814                                    LAKE OKEECHOBEE  MFL   \n\n          event_begin_time  ... tor_length tor_width  tor_other_wfo  \\\n0      2021-01-06 17:31:00  ...       None         0           None   \n1      2021-01-06 18:05:00  ...       None         0           None   \n2      2021-01-06 18:21:00  ...       None         0           None   \n3      2021-01-25 23:03:00  ...       None         0           None   \n4      2021-01-25 23:45:00  ...       None         0           None   \n...                    ...  ...        ...       ...            ...   \n107810 2020-12-28 00:30:00  ...       None         0           None   \n107811 2020-08-01 01:00:00  ...       None         0           None   \n107812 2020-09-12 00:00:00  ...       None         0           None   \n107813 2020-09-12 00:00:00  ...       None         0           None   \n107814 2020-11-08 20:00:00  ...       None         0           None   \n\n        location_index  event_range  event_azimuth  \\\n0                    1         1.81              W   \n1                    1         0.69              S   \n2                    1         0.69              N   \n3                 None          NaN           None   \n4                 None          NaN           None   \n...                ...          ...            ...   \n107810               1        45.11              E   \n107811            None          NaN           None   \n107812            None          NaN           None   \n107813            None          NaN           None   \n107814            None          NaN           None   \n\n                     reference_location  event_latitude event_longitude  \\\n0                     MANVEL COYLE ARPT          29.400        -95.4300   \n1                             DICKINSON          29.460        -95.0500   \n2                                 KEMAH          29.540        -95.0200   \n3                                  None             NaN             NaN   \n4                                  None             NaN             NaN   \n...                                 ...             ...             ...   \n107810  SANTA MONICA BASIN BUOY (46025)          33.711       -118.2663   \n107811                             None             NaN             NaN   \n107812                             None             NaN             NaN   \n107813                             None             NaN             NaN   \n107814                             None             NaN             NaN   \n\n                    event_point  \n0            POINT(-95.43 29.4)  \n1           POINT(-95.05 29.46)  \n2           POINT(-95.02 29.54)  \n3                          None  \n4                          None  \n...                         ...  \n107810  POINT(-118.2663 33.711)  \n107811                     None  \n107812                     None  \n107813                     None  \n107814                     None  \n\n[107815 rows x 33 columns]",
      "text/html": "<div>\n<style scoped>\n    .dataframe tbody tr th:only-of-type {\n        vertical-align: middle;\n    }\n\n    .dataframe tbody tr th {\n        vertical-align: top;\n    }\n\n    .dataframe thead th {\n        text-align: right;\n    }\n</style>\n<table border=\"1\" class=\"dataframe\">\n  <thead>\n    <tr style=\"text-align: right;\">\n      <th></th>\n      <th>episode_id</th>\n      <th>event_id</th>\n      <th>state</th>\n      <th>state_fips_code</th>\n      <th>event_type</th>\n      <th>cz_type</th>\n      <th>cz_fips_code</th>\n      <th>cz_name</th>\n      <th>wfo</th>\n      <th>event_begin_time</th>\n      <th>...</th>\n      <th>tor_length</th>\n      <th>tor_width</th>\n      <th>tor_other_wfo</th>\n      <th>location_index</th>\n      <th>event_range</th>\n      <th>event_azimuth</th>\n      <th>reference_location</th>\n      <th>event_latitude</th>\n      <th>event_longitude</th>\n      <th>event_point</th>\n    </tr>\n  </thead>\n  <tbody>\n    <tr>\n      <th>0</th>\n      <td>154212</td>\n      <td>929077</td>\n      <td>Texas</td>\n      <td>48</td>\n      <td>hail</td>\n      <td>C</td>\n      <td>39</td>\n      <td>BRAZORIA</td>\n      <td>HGX</td>\n      <td>2021-01-06 17:31:00</td>\n      <td>...</td>\n      <td>None</td>\n      <td>0</td>\n      <td>None</td>\n      <td>1</td>\n      <td>1.81</td>\n      <td>W</td>\n      <td>MANVEL COYLE ARPT</td>\n      <td>29.400</td>\n      <td>-95.4300</td>\n      <td>POINT(-95.43 29.4)</td>\n    </tr>\n    <tr>\n      <th>1</th>\n      <td>154212</td>\n      <td>929080</td>\n      <td>Texas</td>\n      <td>48</td>\n      <td>hail</td>\n      <td>C</td>\n      <td>167</td>\n      <td>GALVESTON</td>\n      <td>HGX</td>\n      <td>2021-01-06 18:05:00</td>\n      <td>...</td>\n      <td>None</td>\n      <td>0</td>\n      <td>None</td>\n      <td>1</td>\n      <td>0.69</td>\n      <td>S</td>\n      <td>DICKINSON</td>\n      <td>29.460</td>\n      <td>-95.0500</td>\n      <td>POINT(-95.05 29.46)</td>\n    </tr>\n    <tr>\n      <th>2</th>\n      <td>154212</td>\n      <td>929079</td>\n      <td>Texas</td>\n      <td>48</td>\n      <td>hail</td>\n      <td>C</td>\n      <td>167</td>\n      <td>GALVESTON</td>\n      <td>HGX</td>\n      <td>2021-01-06 18:21:00</td>\n      <td>...</td>\n      <td>None</td>\n      <td>0</td>\n      <td>None</td>\n      <td>1</td>\n      <td>0.69</td>\n      <td>N</td>\n      <td>KEMAH</td>\n      <td>29.540</td>\n      <td>-95.0200</td>\n      <td>POINT(-95.02 29.54)</td>\n    </tr>\n    <tr>\n      <th>3</th>\n      <td>154418</td>\n      <td>930323</td>\n      <td>Mississippi</td>\n      <td>28</td>\n      <td>hail</td>\n      <td>C</td>\n      <td>29</td>\n      <td>COPIAH</td>\n      <td>JAN</td>\n      <td>2021-01-25 23:03:00</td>\n      <td>...</td>\n      <td>None</td>\n      <td>0</td>\n      <td>None</td>\n      <td>None</td>\n      <td>NaN</td>\n      <td>None</td>\n      <td>None</td>\n      <td>NaN</td>\n      <td>NaN</td>\n      <td>None</td>\n    </tr>\n    <tr>\n      <th>4</th>\n      <td>154418</td>\n      <td>930324</td>\n      <td>Mississippi</td>\n      <td>28</td>\n      <td>hail</td>\n      <td>C</td>\n      <td>101</td>\n      <td>NEWTON</td>\n      <td>JAN</td>\n      <td>2021-01-25 23:45:00</td>\n      <td>...</td>\n      <td>None</td>\n      <td>0</td>\n      <td>None</td>\n      <td>None</td>\n      <td>NaN</td>\n      <td>None</td>\n      <td>None</td>\n      <td>NaN</td>\n      <td>NaN</td>\n      <td>None</td>\n    </tr>\n    <tr>\n      <th>...</th>\n      <td>...</td>\n      <td>...</td>\n      <td>...</td>\n      <td>...</td>\n      <td>...</td>\n      <td>...</td>\n      <td>...</td>\n      <td>...</td>\n      <td>...</td>\n      <td>...</td>\n      <td>...</td>\n      <td>...</td>\n      <td>...</td>\n      <td>...</td>\n      <td>...</td>\n      <td>...</td>\n      <td>...</td>\n      <td>...</td>\n      <td>...</td>\n      <td>...</td>\n      <td>...</td>\n    </tr>\n    <tr>\n      <th>107810</th>\n      <td>155390</td>\n      <td>937267</td>\n      <td>E pacific</td>\n      <td>86</td>\n      <td>marine thunderstorm wind</td>\n      <td>Z</td>\n      <td>655</td>\n      <td>INNER WATERS FROM POINT MUGU TO SAN MATEO POIN...</td>\n      <td>LOX</td>\n      <td>2020-12-28 00:30:00</td>\n      <td>...</td>\n      <td>None</td>\n      <td>0</td>\n      <td>None</td>\n      <td>1</td>\n      <td>45.11</td>\n      <td>E</td>\n      <td>SANTA MONICA BASIN BUOY (46025)</td>\n      <td>33.711</td>\n      <td>-118.2663</td>\n      <td>POINT(-118.2663 33.711)</td>\n    </tr>\n    <tr>\n      <th>107811</th>\n      <td>151265</td>\n      <td>913996</td>\n      <td>Atlantic south</td>\n      <td>87</td>\n      <td>marine tropical depression</td>\n      <td>Z</td>\n      <td>630</td>\n      <td>BISCAYNE BAY</td>\n      <td>MFL</td>\n      <td>2020-08-01 01:00:00</td>\n      <td>...</td>\n      <td>None</td>\n      <td>0</td>\n      <td>None</td>\n      <td>None</td>\n      <td>NaN</td>\n      <td>None</td>\n      <td>None</td>\n      <td>NaN</td>\n      <td>NaN</td>\n      <td>None</td>\n    </tr>\n    <tr>\n      <th>107812</th>\n      <td>152468</td>\n      <td>918364</td>\n      <td>Atlantic south</td>\n      <td>87</td>\n      <td>marine tropical depression</td>\n      <td>Z</td>\n      <td>671</td>\n      <td>DEERFIELD BEACH TO OCEAN REEF FL 20 TO 60NM</td>\n      <td>MFL</td>\n      <td>2020-09-12 00:00:00</td>\n      <td>...</td>\n      <td>None</td>\n      <td>0</td>\n      <td>None</td>\n      <td>None</td>\n      <td>NaN</td>\n      <td>None</td>\n      <td>None</td>\n      <td>NaN</td>\n      <td>NaN</td>\n      <td>None</td>\n    </tr>\n    <tr>\n      <th>107813</th>\n      <td>152468</td>\n      <td>918365</td>\n      <td>Atlantic south</td>\n      <td>87</td>\n      <td>marine tropical depression</td>\n      <td>Z</td>\n      <td>670</td>\n      <td>JUPITER INLET TO DEERFIELD BEACH FL 20 TO 60NM</td>\n      <td>MFL</td>\n      <td>2020-09-12 00:00:00</td>\n      <td>...</td>\n      <td>None</td>\n      <td>0</td>\n      <td>None</td>\n      <td>None</td>\n      <td>NaN</td>\n      <td>None</td>\n      <td>None</td>\n      <td>NaN</td>\n      <td>NaN</td>\n      <td>None</td>\n    </tr>\n    <tr>\n      <th>107814</th>\n      <td>153628</td>\n      <td>924958</td>\n      <td>Atlantic south</td>\n      <td>87</td>\n      <td>marine tropical depression</td>\n      <td>Z</td>\n      <td>610</td>\n      <td>LAKE OKEECHOBEE</td>\n      <td>MFL</td>\n      <td>2020-11-08 20:00:00</td>\n      <td>...</td>\n      <td>None</td>\n      <td>0</td>\n      <td>None</td>\n      <td>None</td>\n      <td>NaN</td>\n      <td>None</td>\n      <td>None</td>\n      <td>NaN</td>\n      <td>NaN</td>\n      <td>None</td>\n    </tr>\n  </tbody>\n</table>\n<p>107815 rows × 33 columns</p>\n</div>"
     },
     "execution_count": 13,
     "metadata": {},
     "output_type": "execute_result"
    }
   ],
   "source": [
    "weather_df"
   ],
   "metadata": {
    "collapsed": false,
    "pycharm": {
     "name": "#%%\n"
    }
   }
  },
  {
   "cell_type": "markdown",
   "source": [
    "## Convert lat long to zip codes"
   ],
   "metadata": {
    "collapsed": false
   }
  },
  {
   "cell_type": "code",
   "execution_count": 14,
   "outputs": [],
   "source": [
    "# Coalesce weather df lon lat into one column\n",
    "weather_df['lat_lon'] = weather_df['event_latitude'].astype(str) + '_' +  weather_df['event_longitude'].astype(str)"
   ],
   "metadata": {
    "collapsed": false,
    "pycharm": {
     "name": "#%%\n"
    }
   }
  },
  {
   "cell_type": "code",
   "execution_count": 15,
   "outputs": [],
   "source": [
    "nn_weather_df = weather_df[(~weather_df.lat_lon.isna()) & (weather_df.lat_lon != 'nan_nan')][[\n",
    "    'event_id', 'lat_lon'\n",
    "]]"
   ],
   "metadata": {
    "collapsed": false,
    "pycharm": {
     "name": "#%%\n"
    }
   }
  },
  {
   "cell_type": "code",
   "execution_count": 16,
   "outputs": [
    {
     "data": {
      "text/plain": "       event_id            lat_lon\n0        929077        29.4_-95.43\n1        929080       29.46_-95.05\n2        929079       29.54_-95.02\n7        930415  33.0356_-102.0328\n8        931477   36.8881_-95.2697\n...         ...                ...\n107806   935268       24.85_-80.62\n107807   935269   24.7263_-81.0477\n107808   935270   24.7263_-81.0477\n107809   937266  34.0088_-118.4999\n107810   937267   33.711_-118.2663\n\n[55616 rows x 2 columns]",
      "text/html": "<div>\n<style scoped>\n    .dataframe tbody tr th:only-of-type {\n        vertical-align: middle;\n    }\n\n    .dataframe tbody tr th {\n        vertical-align: top;\n    }\n\n    .dataframe thead th {\n        text-align: right;\n    }\n</style>\n<table border=\"1\" class=\"dataframe\">\n  <thead>\n    <tr style=\"text-align: right;\">\n      <th></th>\n      <th>event_id</th>\n      <th>lat_lon</th>\n    </tr>\n  </thead>\n  <tbody>\n    <tr>\n      <th>0</th>\n      <td>929077</td>\n      <td>29.4_-95.43</td>\n    </tr>\n    <tr>\n      <th>1</th>\n      <td>929080</td>\n      <td>29.46_-95.05</td>\n    </tr>\n    <tr>\n      <th>2</th>\n      <td>929079</td>\n      <td>29.54_-95.02</td>\n    </tr>\n    <tr>\n      <th>7</th>\n      <td>930415</td>\n      <td>33.0356_-102.0328</td>\n    </tr>\n    <tr>\n      <th>8</th>\n      <td>931477</td>\n      <td>36.8881_-95.2697</td>\n    </tr>\n    <tr>\n      <th>...</th>\n      <td>...</td>\n      <td>...</td>\n    </tr>\n    <tr>\n      <th>107806</th>\n      <td>935268</td>\n      <td>24.85_-80.62</td>\n    </tr>\n    <tr>\n      <th>107807</th>\n      <td>935269</td>\n      <td>24.7263_-81.0477</td>\n    </tr>\n    <tr>\n      <th>107808</th>\n      <td>935270</td>\n      <td>24.7263_-81.0477</td>\n    </tr>\n    <tr>\n      <th>107809</th>\n      <td>937266</td>\n      <td>34.0088_-118.4999</td>\n    </tr>\n    <tr>\n      <th>107810</th>\n      <td>937267</td>\n      <td>33.711_-118.2663</td>\n    </tr>\n  </tbody>\n</table>\n<p>55616 rows × 2 columns</p>\n</div>"
     },
     "execution_count": 16,
     "metadata": {},
     "output_type": "execute_result"
    }
   ],
   "source": [
    "nn_weather_df"
   ],
   "metadata": {
    "collapsed": false,
    "pycharm": {
     "name": "#%%\n"
    }
   }
  },
  {
   "cell_type": "code",
   "execution_count": 36,
   "outputs": [
    {
     "data": {
      "text/plain": "event_id          929080\nlat_lon     29.46_-95.05\nName: 1, dtype: object"
     },
     "execution_count": 36,
     "metadata": {},
     "output_type": "execute_result"
    }
   ],
   "source": [
    "nn_weather_df.iloc[1]"
   ],
   "metadata": {
    "collapsed": false,
    "pycharm": {
     "name": "#%%\n"
    }
   }
  },
  {
   "cell_type": "code",
   "execution_count": 37,
   "outputs": [
    {
     "data": {
      "text/plain": "{'postcode': '77539'}"
     },
     "execution_count": 37,
     "metadata": {},
     "output_type": "execute_result"
    }
   ],
   "source": [
    "get_zipcode(nn_weather_df.iloc[1], 'lat_lon')"
   ],
   "metadata": {
    "collapsed": false,
    "pycharm": {
     "name": "#%%\n"
    }
   }
  },
  {
   "cell_type": "code",
   "execution_count": 38,
   "outputs": [
    {
     "data": {
      "text/plain": "55616"
     },
     "execution_count": 38,
     "metadata": {},
     "output_type": "execute_result"
    }
   ],
   "source": [
    "len(nn_weather_df)"
   ],
   "metadata": {
    "collapsed": false,
    "pycharm": {
     "name": "#%%\n"
    }
   }
  },
  {
   "cell_type": "code",
   "execution_count": null,
   "outputs": [
    {
     "name": "stderr",
     "output_type": "stream",
     "text": [
      "44.74_-93.13:   0%|          | 37/55616 [03:15<81:37:52,  5.29s/it]                                                                                                                                         "
     ]
    }
   ],
   "source": [
    "from tqdm import tqdm\n",
    "from time import sleep\n",
    "\n",
    "with tqdm(total=len(nn_weather_df)) as pbar:\n",
    "    for row in nn_weather_df.iterrows():\n",
    "        pbar.set_description(f\"{row[1]['lat_lon']}\")\n",
    "        zc = get_zipcode(row[1], lat_lon_field='lat_lon')\n",
    "        sleep(5)\n",
    "        pbar.set_description(f'{zc}')\n",
    "        pbar.update()"
   ],
   "metadata": {
    "collapsed": false,
    "pycharm": {
     "name": "#%%\n",
     "is_executing": true
    }
   }
  },
  {
   "cell_type": "code",
   "execution_count": 24,
   "outputs": [],
   "source": [
    "result = nn_weather_df.apply(lambda row: get_zipcode(row, lat_lon_field='lat_lon'), axis=1)"
   ],
   "metadata": {
    "collapsed": false,
    "pycharm": {
     "name": "#%%\n"
    }
   }
  },
  {
   "cell_type": "code",
   "execution_count": 25,
   "outputs": [],
   "source": [
    "result"
   ],
   "metadata": {
    "collapsed": false,
    "pycharm": {
     "name": "#%%\n"
    }
   }
  },
  {
   "cell_type": "code",
   "execution_count": 33,
   "outputs": [
    {
     "name": "stderr",
     "output_type": "stream",
     "text": [
      "/Users/donald/.local/share/virtualenvs/cra-ZUCDQa7D/lib/python3.9/site-packages/distributed/node.py:160: UserWarning: Port 8787 is already in use.\n",
      "Perhaps you already have a cluster running?\n",
      "Hosting the HTTP server on port 54715 instead\n",
      "  warnings.warn(\n"
     ]
    },
    {
     "data": {
      "text/plain": "<Client: 'tcp://127.0.0.1:54716' processes=16 threads=16, memory=64.00 GiB>",
      "text/html": "<div>\n    <div style=\"width: 24px; height: 24px; background-color: #e1e1e1; border: 3px solid #9D9D9D; border-radius: 5px; position: absolute;\"> </div>\n    <div style=\"margin-left: 48px;\">\n        <h3 style=\"margin-bottom: 0px;\">Client</h3>\n        <p style=\"color: #9D9D9D; margin-bottom: 0px;\">Client-7515db6e-4e80-11ec-bbd4-acde48001122</p>\n        <table style=\"width: 100%; text-align: left;\">\n\n        <tr>\n        \n            <td style=\"text-align: left;\"><strong>Connection method:</strong> Cluster object</td>\n            <td style=\"text-align: left;\"><strong>Cluster type:</strong> distributed.LocalCluster</td>\n        \n        </tr>\n\n        \n            <tr>\n                <td style=\"text-align: left;\">\n                    <strong>Dashboard: </strong> <a href=\"http://127.0.0.1:54715/status\" target=\"_blank\">http://127.0.0.1:54715/status</a>\n                </td>\n                <td style=\"text-align: left;\"></td>\n            </tr>\n        \n\n        </table>\n\n        \n            <details>\n            <summary style=\"margin-bottom: 20px;\"><h3 style=\"display: inline;\">Cluster Info</h3></summary>\n            <div class=\"jp-RenderedHTMLCommon jp-RenderedHTML jp-mod-trusted jp-OutputArea-output\">\n    <div style=\"width: 24px; height: 24px; background-color: #e1e1e1; border: 3px solid #9D9D9D; border-radius: 5px; position: absolute;\">\n    </div>\n    <div style=\"margin-left: 48px;\">\n        <h3 style=\"margin-bottom: 0px; margin-top: 0px;\">LocalCluster</h3>\n        <p style=\"color: #9D9D9D; margin-bottom: 0px;\">a05f32d5</p>\n        <table style=\"width: 100%; text-align: left;\">\n            <tr>\n                <td style=\"text-align: left;\">\n                    <strong>Dashboard:</strong> <a href=\"http://127.0.0.1:54715/status\" target=\"_blank\">http://127.0.0.1:54715/status</a>\n                </td>\n                <td style=\"text-align: left;\">\n                    <strong>Workers:</strong> 16\n                </td>\n            </tr>\n            <tr>\n                <td style=\"text-align: left;\">\n                    <strong>Total threads:</strong> 16\n                </td>\n                <td style=\"text-align: left;\">\n                    <strong>Total memory:</strong> 64.00 GiB\n                </td>\n            </tr>\n            \n            <tr>\n    <td style=\"text-align: left;\"><strong>Status:</strong> running</td>\n    <td style=\"text-align: left;\"><strong>Using processes:</strong> True</td>\n</tr>\n\n            \n        </table>\n\n        <details>\n            <summary style=\"margin-bottom: 20px;\">\n                <h3 style=\"display: inline;\">Scheduler Info</h3>\n            </summary>\n\n            <div style=\"\">\n    <div>\n        <div style=\"width: 24px; height: 24px; background-color: #FFF7E5; border: 3px solid #FF6132; border-radius: 5px; position: absolute;\"> </div>\n        <div style=\"margin-left: 48px;\">\n            <h3 style=\"margin-bottom: 0px;\">Scheduler</h3>\n            <p style=\"color: #9D9D9D; margin-bottom: 0px;\">Scheduler-72d481b4-ae7a-4418-a649-c304b1c2292c</p>\n            <table style=\"width: 100%; text-align: left;\">\n                <tr>\n                    <td style=\"text-align: left;\">\n                        <strong>Comm:</strong> tcp://127.0.0.1:54716\n                    </td>\n                    <td style=\"text-align: left;\">\n                        <strong>Workers:</strong> 16\n                    </td>\n                </tr>\n                <tr>\n                    <td style=\"text-align: left;\">\n                        <strong>Dashboard:</strong> <a href=\"http://127.0.0.1:54715/status\" target=\"_blank\">http://127.0.0.1:54715/status</a>\n                    </td>\n                    <td style=\"text-align: left;\">\n                        <strong>Total threads:</strong> 16\n                    </td>\n                </tr>\n                <tr>\n                    <td style=\"text-align: left;\">\n                        <strong>Started:</strong> Just now\n                    </td>\n                    <td style=\"text-align: left;\">\n                        <strong>Total memory:</strong> 64.00 GiB\n                    </td>\n                </tr>\n            </table>\n        </div>\n    </div>\n\n    <details style=\"margin-left: 48px;\">\n        <summary style=\"margin-bottom: 20px;\">\n            <h3 style=\"display: inline;\">Workers</h3>\n        </summary>\n\n        \n        <div style=\"margin-bottom: 20px;\">\n            <div style=\"width: 24px; height: 24px; background-color: #DBF5FF; border: 3px solid #4CC9FF; border-radius: 5px; position: absolute;\"> </div>\n            <div style=\"margin-left: 48px;\">\n            <details>\n                <summary>\n                    <h4 style=\"margin-bottom: 0px; display: inline;\">Worker: 0</h4>\n                </summary>\n                <table style=\"width: 100%; text-align: left;\">\n                    <tr>\n                        <td style=\"text-align: left;\">\n                            <strong>Comm: </strong> tcp://127.0.0.1:54777\n                        </td>\n                        <td style=\"text-align: left;\">\n                            <strong>Total threads: </strong> 1\n                        </td>\n                    </tr>\n                    <tr>\n                        <td style=\"text-align: left;\">\n                            <strong>Dashboard: </strong> <a href=\"http://127.0.0.1:54778/status\" target=\"_blank\">http://127.0.0.1:54778/status</a>\n                        </td>\n                        <td style=\"text-align: left;\">\n                            <strong>Memory: </strong> 4.00 GiB\n                        </td>\n                    </tr>\n                    <tr>\n                        <td style=\"text-align: left;\">\n                            <strong>Nanny: </strong> tcp://127.0.0.1:54723\n                        </td>\n                        <td style=\"text-align: left;\"></td>\n                    </tr>\n                    <tr>\n                        <td colspan=\"2\" style=\"text-align: left;\">\n                            <strong>Local directory: </strong> /Users/donald/DataspellProjects/cra/notebooks/2021-11-23-severe-weather/dask-worker-space/worker-bf4fsged\n                        </td>\n                    </tr>\n\n                    \n\n                    \n\n                </table>\n            </details>\n            </div>\n        </div>\n        \n        <div style=\"margin-bottom: 20px;\">\n            <div style=\"width: 24px; height: 24px; background-color: #DBF5FF; border: 3px solid #4CC9FF; border-radius: 5px; position: absolute;\"> </div>\n            <div style=\"margin-left: 48px;\">\n            <details>\n                <summary>\n                    <h4 style=\"margin-bottom: 0px; display: inline;\">Worker: 1</h4>\n                </summary>\n                <table style=\"width: 100%; text-align: left;\">\n                    <tr>\n                        <td style=\"text-align: left;\">\n                            <strong>Comm: </strong> tcp://127.0.0.1:54773\n                        </td>\n                        <td style=\"text-align: left;\">\n                            <strong>Total threads: </strong> 1\n                        </td>\n                    </tr>\n                    <tr>\n                        <td style=\"text-align: left;\">\n                            <strong>Dashboard: </strong> <a href=\"http://127.0.0.1:54775/status\" target=\"_blank\">http://127.0.0.1:54775/status</a>\n                        </td>\n                        <td style=\"text-align: left;\">\n                            <strong>Memory: </strong> 4.00 GiB\n                        </td>\n                    </tr>\n                    <tr>\n                        <td style=\"text-align: left;\">\n                            <strong>Nanny: </strong> tcp://127.0.0.1:54726\n                        </td>\n                        <td style=\"text-align: left;\"></td>\n                    </tr>\n                    <tr>\n                        <td colspan=\"2\" style=\"text-align: left;\">\n                            <strong>Local directory: </strong> /Users/donald/DataspellProjects/cra/notebooks/2021-11-23-severe-weather/dask-worker-space/worker-sv1tbve9\n                        </td>\n                    </tr>\n\n                    \n\n                    \n\n                </table>\n            </details>\n            </div>\n        </div>\n        \n        <div style=\"margin-bottom: 20px;\">\n            <div style=\"width: 24px; height: 24px; background-color: #DBF5FF; border: 3px solid #4CC9FF; border-radius: 5px; position: absolute;\"> </div>\n            <div style=\"margin-left: 48px;\">\n            <details>\n                <summary>\n                    <h4 style=\"margin-bottom: 0px; display: inline;\">Worker: 2</h4>\n                </summary>\n                <table style=\"width: 100%; text-align: left;\">\n                    <tr>\n                        <td style=\"text-align: left;\">\n                            <strong>Comm: </strong> tcp://127.0.0.1:54780\n                        </td>\n                        <td style=\"text-align: left;\">\n                            <strong>Total threads: </strong> 1\n                        </td>\n                    </tr>\n                    <tr>\n                        <td style=\"text-align: left;\">\n                            <strong>Dashboard: </strong> <a href=\"http://127.0.0.1:54781/status\" target=\"_blank\">http://127.0.0.1:54781/status</a>\n                        </td>\n                        <td style=\"text-align: left;\">\n                            <strong>Memory: </strong> 4.00 GiB\n                        </td>\n                    </tr>\n                    <tr>\n                        <td style=\"text-align: left;\">\n                            <strong>Nanny: </strong> tcp://127.0.0.1:54729\n                        </td>\n                        <td style=\"text-align: left;\"></td>\n                    </tr>\n                    <tr>\n                        <td colspan=\"2\" style=\"text-align: left;\">\n                            <strong>Local directory: </strong> /Users/donald/DataspellProjects/cra/notebooks/2021-11-23-severe-weather/dask-worker-space/worker-glfhxzsg\n                        </td>\n                    </tr>\n\n                    \n\n                    \n\n                </table>\n            </details>\n            </div>\n        </div>\n        \n        <div style=\"margin-bottom: 20px;\">\n            <div style=\"width: 24px; height: 24px; background-color: #DBF5FF; border: 3px solid #4CC9FF; border-radius: 5px; position: absolute;\"> </div>\n            <div style=\"margin-left: 48px;\">\n            <details>\n                <summary>\n                    <h4 style=\"margin-bottom: 0px; display: inline;\">Worker: 3</h4>\n                </summary>\n                <table style=\"width: 100%; text-align: left;\">\n                    <tr>\n                        <td style=\"text-align: left;\">\n                            <strong>Comm: </strong> tcp://127.0.0.1:54796\n                        </td>\n                        <td style=\"text-align: left;\">\n                            <strong>Total threads: </strong> 1\n                        </td>\n                    </tr>\n                    <tr>\n                        <td style=\"text-align: left;\">\n                            <strong>Dashboard: </strong> <a href=\"http://127.0.0.1:54798/status\" target=\"_blank\">http://127.0.0.1:54798/status</a>\n                        </td>\n                        <td style=\"text-align: left;\">\n                            <strong>Memory: </strong> 4.00 GiB\n                        </td>\n                    </tr>\n                    <tr>\n                        <td style=\"text-align: left;\">\n                            <strong>Nanny: </strong> tcp://127.0.0.1:54728\n                        </td>\n                        <td style=\"text-align: left;\"></td>\n                    </tr>\n                    <tr>\n                        <td colspan=\"2\" style=\"text-align: left;\">\n                            <strong>Local directory: </strong> /Users/donald/DataspellProjects/cra/notebooks/2021-11-23-severe-weather/dask-worker-space/worker-9c4sxqlu\n                        </td>\n                    </tr>\n\n                    \n\n                    \n\n                </table>\n            </details>\n            </div>\n        </div>\n        \n        <div style=\"margin-bottom: 20px;\">\n            <div style=\"width: 24px; height: 24px; background-color: #DBF5FF; border: 3px solid #4CC9FF; border-radius: 5px; position: absolute;\"> </div>\n            <div style=\"margin-left: 48px;\">\n            <details>\n                <summary>\n                    <h4 style=\"margin-bottom: 0px; display: inline;\">Worker: 4</h4>\n                </summary>\n                <table style=\"width: 100%; text-align: left;\">\n                    <tr>\n                        <td style=\"text-align: left;\">\n                            <strong>Comm: </strong> tcp://127.0.0.1:54795\n                        </td>\n                        <td style=\"text-align: left;\">\n                            <strong>Total threads: </strong> 1\n                        </td>\n                    </tr>\n                    <tr>\n                        <td style=\"text-align: left;\">\n                            <strong>Dashboard: </strong> <a href=\"http://127.0.0.1:54797/status\" target=\"_blank\">http://127.0.0.1:54797/status</a>\n                        </td>\n                        <td style=\"text-align: left;\">\n                            <strong>Memory: </strong> 4.00 GiB\n                        </td>\n                    </tr>\n                    <tr>\n                        <td style=\"text-align: left;\">\n                            <strong>Nanny: </strong> tcp://127.0.0.1:54734\n                        </td>\n                        <td style=\"text-align: left;\"></td>\n                    </tr>\n                    <tr>\n                        <td colspan=\"2\" style=\"text-align: left;\">\n                            <strong>Local directory: </strong> /Users/donald/DataspellProjects/cra/notebooks/2021-11-23-severe-weather/dask-worker-space/worker-0s5v3sg3\n                        </td>\n                    </tr>\n\n                    \n\n                    \n\n                </table>\n            </details>\n            </div>\n        </div>\n        \n        <div style=\"margin-bottom: 20px;\">\n            <div style=\"width: 24px; height: 24px; background-color: #DBF5FF; border: 3px solid #4CC9FF; border-radius: 5px; position: absolute;\"> </div>\n            <div style=\"margin-left: 48px;\">\n            <details>\n                <summary>\n                    <h4 style=\"margin-bottom: 0px; display: inline;\">Worker: 5</h4>\n                </summary>\n                <table style=\"width: 100%; text-align: left;\">\n                    <tr>\n                        <td style=\"text-align: left;\">\n                            <strong>Comm: </strong> tcp://127.0.0.1:54756\n                        </td>\n                        <td style=\"text-align: left;\">\n                            <strong>Total threads: </strong> 1\n                        </td>\n                    </tr>\n                    <tr>\n                        <td style=\"text-align: left;\">\n                            <strong>Dashboard: </strong> <a href=\"http://127.0.0.1:54757/status\" target=\"_blank\">http://127.0.0.1:54757/status</a>\n                        </td>\n                        <td style=\"text-align: left;\">\n                            <strong>Memory: </strong> 4.00 GiB\n                        </td>\n                    </tr>\n                    <tr>\n                        <td style=\"text-align: left;\">\n                            <strong>Nanny: </strong> tcp://127.0.0.1:54721\n                        </td>\n                        <td style=\"text-align: left;\"></td>\n                    </tr>\n                    <tr>\n                        <td colspan=\"2\" style=\"text-align: left;\">\n                            <strong>Local directory: </strong> /Users/donald/DataspellProjects/cra/notebooks/2021-11-23-severe-weather/dask-worker-space/worker-cvv54f16\n                        </td>\n                    </tr>\n\n                    \n\n                    \n\n                </table>\n            </details>\n            </div>\n        </div>\n        \n        <div style=\"margin-bottom: 20px;\">\n            <div style=\"width: 24px; height: 24px; background-color: #DBF5FF; border: 3px solid #4CC9FF; border-radius: 5px; position: absolute;\"> </div>\n            <div style=\"margin-left: 48px;\">\n            <details>\n                <summary>\n                    <h4 style=\"margin-bottom: 0px; display: inline;\">Worker: 6</h4>\n                </summary>\n                <table style=\"width: 100%; text-align: left;\">\n                    <tr>\n                        <td style=\"text-align: left;\">\n                            <strong>Comm: </strong> tcp://127.0.0.1:54786\n                        </td>\n                        <td style=\"text-align: left;\">\n                            <strong>Total threads: </strong> 1\n                        </td>\n                    </tr>\n                    <tr>\n                        <td style=\"text-align: left;\">\n                            <strong>Dashboard: </strong> <a href=\"http://127.0.0.1:54787/status\" target=\"_blank\">http://127.0.0.1:54787/status</a>\n                        </td>\n                        <td style=\"text-align: left;\">\n                            <strong>Memory: </strong> 4.00 GiB\n                        </td>\n                    </tr>\n                    <tr>\n                        <td style=\"text-align: left;\">\n                            <strong>Nanny: </strong> tcp://127.0.0.1:54731\n                        </td>\n                        <td style=\"text-align: left;\"></td>\n                    </tr>\n                    <tr>\n                        <td colspan=\"2\" style=\"text-align: left;\">\n                            <strong>Local directory: </strong> /Users/donald/DataspellProjects/cra/notebooks/2021-11-23-severe-weather/dask-worker-space/worker-1zi89pjt\n                        </td>\n                    </tr>\n\n                    \n\n                    \n\n                </table>\n            </details>\n            </div>\n        </div>\n        \n        <div style=\"margin-bottom: 20px;\">\n            <div style=\"width: 24px; height: 24px; background-color: #DBF5FF; border: 3px solid #4CC9FF; border-radius: 5px; position: absolute;\"> </div>\n            <div style=\"margin-left: 48px;\">\n            <details>\n                <summary>\n                    <h4 style=\"margin-bottom: 0px; display: inline;\">Worker: 7</h4>\n                </summary>\n                <table style=\"width: 100%; text-align: left;\">\n                    <tr>\n                        <td style=\"text-align: left;\">\n                            <strong>Comm: </strong> tcp://127.0.0.1:54753\n                        </td>\n                        <td style=\"text-align: left;\">\n                            <strong>Total threads: </strong> 1\n                        </td>\n                    </tr>\n                    <tr>\n                        <td style=\"text-align: left;\">\n                            <strong>Dashboard: </strong> <a href=\"http://127.0.0.1:54754/status\" target=\"_blank\">http://127.0.0.1:54754/status</a>\n                        </td>\n                        <td style=\"text-align: left;\">\n                            <strong>Memory: </strong> 4.00 GiB\n                        </td>\n                    </tr>\n                    <tr>\n                        <td style=\"text-align: left;\">\n                            <strong>Nanny: </strong> tcp://127.0.0.1:54719\n                        </td>\n                        <td style=\"text-align: left;\"></td>\n                    </tr>\n                    <tr>\n                        <td colspan=\"2\" style=\"text-align: left;\">\n                            <strong>Local directory: </strong> /Users/donald/DataspellProjects/cra/notebooks/2021-11-23-severe-weather/dask-worker-space/worker-ucdmydqy\n                        </td>\n                    </tr>\n\n                    \n\n                    \n\n                </table>\n            </details>\n            </div>\n        </div>\n        \n        <div style=\"margin-bottom: 20px;\">\n            <div style=\"width: 24px; height: 24px; background-color: #DBF5FF; border: 3px solid #4CC9FF; border-radius: 5px; position: absolute;\"> </div>\n            <div style=\"margin-left: 48px;\">\n            <details>\n                <summary>\n                    <h4 style=\"margin-bottom: 0px; display: inline;\">Worker: 8</h4>\n                </summary>\n                <table style=\"width: 100%; text-align: left;\">\n                    <tr>\n                        <td style=\"text-align: left;\">\n                            <strong>Comm: </strong> tcp://127.0.0.1:54768\n                        </td>\n                        <td style=\"text-align: left;\">\n                            <strong>Total threads: </strong> 1\n                        </td>\n                    </tr>\n                    <tr>\n                        <td style=\"text-align: left;\">\n                            <strong>Dashboard: </strong> <a href=\"http://127.0.0.1:54769/status\" target=\"_blank\">http://127.0.0.1:54769/status</a>\n                        </td>\n                        <td style=\"text-align: left;\">\n                            <strong>Memory: </strong> 4.00 GiB\n                        </td>\n                    </tr>\n                    <tr>\n                        <td style=\"text-align: left;\">\n                            <strong>Nanny: </strong> tcp://127.0.0.1:54725\n                        </td>\n                        <td style=\"text-align: left;\"></td>\n                    </tr>\n                    <tr>\n                        <td colspan=\"2\" style=\"text-align: left;\">\n                            <strong>Local directory: </strong> /Users/donald/DataspellProjects/cra/notebooks/2021-11-23-severe-weather/dask-worker-space/worker-163bn4h6\n                        </td>\n                    </tr>\n\n                    \n\n                    \n\n                </table>\n            </details>\n            </div>\n        </div>\n        \n        <div style=\"margin-bottom: 20px;\">\n            <div style=\"width: 24px; height: 24px; background-color: #DBF5FF; border: 3px solid #4CC9FF; border-radius: 5px; position: absolute;\"> </div>\n            <div style=\"margin-left: 48px;\">\n            <details>\n                <summary>\n                    <h4 style=\"margin-bottom: 0px; display: inline;\">Worker: 9</h4>\n                </summary>\n                <table style=\"width: 100%; text-align: left;\">\n                    <tr>\n                        <td style=\"text-align: left;\">\n                            <strong>Comm: </strong> tcp://127.0.0.1:54790\n                        </td>\n                        <td style=\"text-align: left;\">\n                            <strong>Total threads: </strong> 1\n                        </td>\n                    </tr>\n                    <tr>\n                        <td style=\"text-align: left;\">\n                            <strong>Dashboard: </strong> <a href=\"http://127.0.0.1:54793/status\" target=\"_blank\">http://127.0.0.1:54793/status</a>\n                        </td>\n                        <td style=\"text-align: left;\">\n                            <strong>Memory: </strong> 4.00 GiB\n                        </td>\n                    </tr>\n                    <tr>\n                        <td style=\"text-align: left;\">\n                            <strong>Nanny: </strong> tcp://127.0.0.1:54733\n                        </td>\n                        <td style=\"text-align: left;\"></td>\n                    </tr>\n                    <tr>\n                        <td colspan=\"2\" style=\"text-align: left;\">\n                            <strong>Local directory: </strong> /Users/donald/DataspellProjects/cra/notebooks/2021-11-23-severe-weather/dask-worker-space/worker-apmbuxmv\n                        </td>\n                    </tr>\n\n                    \n\n                    \n\n                </table>\n            </details>\n            </div>\n        </div>\n        \n        <div style=\"margin-bottom: 20px;\">\n            <div style=\"width: 24px; height: 24px; background-color: #DBF5FF; border: 3px solid #4CC9FF; border-radius: 5px; position: absolute;\"> </div>\n            <div style=\"margin-left: 48px;\">\n            <details>\n                <summary>\n                    <h4 style=\"margin-bottom: 0px; display: inline;\">Worker: 10</h4>\n                </summary>\n                <table style=\"width: 100%; text-align: left;\">\n                    <tr>\n                        <td style=\"text-align: left;\">\n                            <strong>Comm: </strong> tcp://127.0.0.1:54762\n                        </td>\n                        <td style=\"text-align: left;\">\n                            <strong>Total threads: </strong> 1\n                        </td>\n                    </tr>\n                    <tr>\n                        <td style=\"text-align: left;\">\n                            <strong>Dashboard: </strong> <a href=\"http://127.0.0.1:54763/status\" target=\"_blank\">http://127.0.0.1:54763/status</a>\n                        </td>\n                        <td style=\"text-align: left;\">\n                            <strong>Memory: </strong> 4.00 GiB\n                        </td>\n                    </tr>\n                    <tr>\n                        <td style=\"text-align: left;\">\n                            <strong>Nanny: </strong> tcp://127.0.0.1:54722\n                        </td>\n                        <td style=\"text-align: left;\"></td>\n                    </tr>\n                    <tr>\n                        <td colspan=\"2\" style=\"text-align: left;\">\n                            <strong>Local directory: </strong> /Users/donald/DataspellProjects/cra/notebooks/2021-11-23-severe-weather/dask-worker-space/worker-ncylp2np\n                        </td>\n                    </tr>\n\n                    \n\n                    \n\n                </table>\n            </details>\n            </div>\n        </div>\n        \n        <div style=\"margin-bottom: 20px;\">\n            <div style=\"width: 24px; height: 24px; background-color: #DBF5FF; border: 3px solid #4CC9FF; border-radius: 5px; position: absolute;\"> </div>\n            <div style=\"margin-left: 48px;\">\n            <details>\n                <summary>\n                    <h4 style=\"margin-bottom: 0px; display: inline;\">Worker: 11</h4>\n                </summary>\n                <table style=\"width: 100%; text-align: left;\">\n                    <tr>\n                        <td style=\"text-align: left;\">\n                            <strong>Comm: </strong> tcp://127.0.0.1:54783\n                        </td>\n                        <td style=\"text-align: left;\">\n                            <strong>Total threads: </strong> 1\n                        </td>\n                    </tr>\n                    <tr>\n                        <td style=\"text-align: left;\">\n                            <strong>Dashboard: </strong> <a href=\"http://127.0.0.1:54784/status\" target=\"_blank\">http://127.0.0.1:54784/status</a>\n                        </td>\n                        <td style=\"text-align: left;\">\n                            <strong>Memory: </strong> 4.00 GiB\n                        </td>\n                    </tr>\n                    <tr>\n                        <td style=\"text-align: left;\">\n                            <strong>Nanny: </strong> tcp://127.0.0.1:54730\n                        </td>\n                        <td style=\"text-align: left;\"></td>\n                    </tr>\n                    <tr>\n                        <td colspan=\"2\" style=\"text-align: left;\">\n                            <strong>Local directory: </strong> /Users/donald/DataspellProjects/cra/notebooks/2021-11-23-severe-weather/dask-worker-space/worker-shmw9u85\n                        </td>\n                    </tr>\n\n                    \n\n                    \n\n                </table>\n            </details>\n            </div>\n        </div>\n        \n        <div style=\"margin-bottom: 20px;\">\n            <div style=\"width: 24px; height: 24px; background-color: #DBF5FF; border: 3px solid #4CC9FF; border-radius: 5px; position: absolute;\"> </div>\n            <div style=\"margin-left: 48px;\">\n            <details>\n                <summary>\n                    <h4 style=\"margin-bottom: 0px; display: inline;\">Worker: 12</h4>\n                </summary>\n                <table style=\"width: 100%; text-align: left;\">\n                    <tr>\n                        <td style=\"text-align: left;\">\n                            <strong>Comm: </strong> tcp://127.0.0.1:54765\n                        </td>\n                        <td style=\"text-align: left;\">\n                            <strong>Total threads: </strong> 1\n                        </td>\n                    </tr>\n                    <tr>\n                        <td style=\"text-align: left;\">\n                            <strong>Dashboard: </strong> <a href=\"http://127.0.0.1:54766/status\" target=\"_blank\">http://127.0.0.1:54766/status</a>\n                        </td>\n                        <td style=\"text-align: left;\">\n                            <strong>Memory: </strong> 4.00 GiB\n                        </td>\n                    </tr>\n                    <tr>\n                        <td style=\"text-align: left;\">\n                            <strong>Nanny: </strong> tcp://127.0.0.1:54724\n                        </td>\n                        <td style=\"text-align: left;\"></td>\n                    </tr>\n                    <tr>\n                        <td colspan=\"2\" style=\"text-align: left;\">\n                            <strong>Local directory: </strong> /Users/donald/DataspellProjects/cra/notebooks/2021-11-23-severe-weather/dask-worker-space/worker-u7k98qom\n                        </td>\n                    </tr>\n\n                    \n\n                    \n\n                </table>\n            </details>\n            </div>\n        </div>\n        \n        <div style=\"margin-bottom: 20px;\">\n            <div style=\"width: 24px; height: 24px; background-color: #DBF5FF; border: 3px solid #4CC9FF; border-radius: 5px; position: absolute;\"> </div>\n            <div style=\"margin-left: 48px;\">\n            <details>\n                <summary>\n                    <h4 style=\"margin-bottom: 0px; display: inline;\">Worker: 13</h4>\n                </summary>\n                <table style=\"width: 100%; text-align: left;\">\n                    <tr>\n                        <td style=\"text-align: left;\">\n                            <strong>Comm: </strong> tcp://127.0.0.1:54771\n                        </td>\n                        <td style=\"text-align: left;\">\n                            <strong>Total threads: </strong> 1\n                        </td>\n                    </tr>\n                    <tr>\n                        <td style=\"text-align: left;\">\n                            <strong>Dashboard: </strong> <a href=\"http://127.0.0.1:54772/status\" target=\"_blank\">http://127.0.0.1:54772/status</a>\n                        </td>\n                        <td style=\"text-align: left;\">\n                            <strong>Memory: </strong> 4.00 GiB\n                        </td>\n                    </tr>\n                    <tr>\n                        <td style=\"text-align: left;\">\n                            <strong>Nanny: </strong> tcp://127.0.0.1:54727\n                        </td>\n                        <td style=\"text-align: left;\"></td>\n                    </tr>\n                    <tr>\n                        <td colspan=\"2\" style=\"text-align: left;\">\n                            <strong>Local directory: </strong> /Users/donald/DataspellProjects/cra/notebooks/2021-11-23-severe-weather/dask-worker-space/worker-4zmjdt8k\n                        </td>\n                    </tr>\n\n                    \n\n                    \n\n                </table>\n            </details>\n            </div>\n        </div>\n        \n        <div style=\"margin-bottom: 20px;\">\n            <div style=\"width: 24px; height: 24px; background-color: #DBF5FF; border: 3px solid #4CC9FF; border-radius: 5px; position: absolute;\"> </div>\n            <div style=\"margin-left: 48px;\">\n            <details>\n                <summary>\n                    <h4 style=\"margin-bottom: 0px; display: inline;\">Worker: 14</h4>\n                </summary>\n                <table style=\"width: 100%; text-align: left;\">\n                    <tr>\n                        <td style=\"text-align: left;\">\n                            <strong>Comm: </strong> tcp://127.0.0.1:54789\n                        </td>\n                        <td style=\"text-align: left;\">\n                            <strong>Total threads: </strong> 1\n                        </td>\n                    </tr>\n                    <tr>\n                        <td style=\"text-align: left;\">\n                            <strong>Dashboard: </strong> <a href=\"http://127.0.0.1:54791/status\" target=\"_blank\">http://127.0.0.1:54791/status</a>\n                        </td>\n                        <td style=\"text-align: left;\">\n                            <strong>Memory: </strong> 4.00 GiB\n                        </td>\n                    </tr>\n                    <tr>\n                        <td style=\"text-align: left;\">\n                            <strong>Nanny: </strong> tcp://127.0.0.1:54732\n                        </td>\n                        <td style=\"text-align: left;\"></td>\n                    </tr>\n                    <tr>\n                        <td colspan=\"2\" style=\"text-align: left;\">\n                            <strong>Local directory: </strong> /Users/donald/DataspellProjects/cra/notebooks/2021-11-23-severe-weather/dask-worker-space/worker-tj02uqjw\n                        </td>\n                    </tr>\n\n                    \n\n                    \n\n                </table>\n            </details>\n            </div>\n        </div>\n        \n        <div style=\"margin-bottom: 20px;\">\n            <div style=\"width: 24px; height: 24px; background-color: #DBF5FF; border: 3px solid #4CC9FF; border-radius: 5px; position: absolute;\"> </div>\n            <div style=\"margin-left: 48px;\">\n            <details>\n                <summary>\n                    <h4 style=\"margin-bottom: 0px; display: inline;\">Worker: 15</h4>\n                </summary>\n                <table style=\"width: 100%; text-align: left;\">\n                    <tr>\n                        <td style=\"text-align: left;\">\n                            <strong>Comm: </strong> tcp://127.0.0.1:54759\n                        </td>\n                        <td style=\"text-align: left;\">\n                            <strong>Total threads: </strong> 1\n                        </td>\n                    </tr>\n                    <tr>\n                        <td style=\"text-align: left;\">\n                            <strong>Dashboard: </strong> <a href=\"http://127.0.0.1:54760/status\" target=\"_blank\">http://127.0.0.1:54760/status</a>\n                        </td>\n                        <td style=\"text-align: left;\">\n                            <strong>Memory: </strong> 4.00 GiB\n                        </td>\n                    </tr>\n                    <tr>\n                        <td style=\"text-align: left;\">\n                            <strong>Nanny: </strong> tcp://127.0.0.1:54720\n                        </td>\n                        <td style=\"text-align: left;\"></td>\n                    </tr>\n                    <tr>\n                        <td colspan=\"2\" style=\"text-align: left;\">\n                            <strong>Local directory: </strong> /Users/donald/DataspellProjects/cra/notebooks/2021-11-23-severe-weather/dask-worker-space/worker-tn2_6tmm\n                        </td>\n                    </tr>\n\n                    \n\n                    \n\n                </table>\n            </details>\n            </div>\n        </div>\n        \n\n    </details>\n</div>\n\n        </details>\n    </div>\n</div>\n            </details>\n        \n\n    </div>\n</div>"
     },
     "execution_count": 33,
     "metadata": {},
     "output_type": "execute_result"
    }
   ],
   "source": [
    "# from dask.distributed import Client, LocalCluster\n",
    "#\n",
    "# cluster = LocalCluster(\n",
    "#     n_workers=16,\n",
    "#     processes=True,\n",
    "# )\n",
    "# client = Client(cluster)\n",
    "# client"
   ],
   "metadata": {
    "collapsed": false,
    "pycharm": {
     "name": "#%%\n"
    }
   }
  },
  {
   "cell_type": "code",
   "execution_count": 34,
   "outputs": [],
   "source": [
    "# import dask.dataframe as dd"
   ],
   "metadata": {
    "collapsed": false,
    "pycharm": {
     "name": "#%%\n"
    }
   }
  },
  {
   "cell_type": "code",
   "execution_count": 35,
   "outputs": [],
   "source": [
    "# ddf = dd.from_pandas(nn_weather_df, npartitions=16)"
   ],
   "metadata": {
    "collapsed": false,
    "pycharm": {
     "name": "#%%\n"
    }
   }
  },
  {
   "cell_type": "code",
   "execution_count": 36,
   "outputs": [
    {
     "data": {
      "text/plain": "  event_id            lat_lon\n0   929077        29.4_-95.43\n1   929080       29.46_-95.05\n2   929079       29.54_-95.02\n7   930415  33.0356_-102.0328\n8   931477   36.8881_-95.2697",
      "text/html": "<div>\n<style scoped>\n    .dataframe tbody tr th:only-of-type {\n        vertical-align: middle;\n    }\n\n    .dataframe tbody tr th {\n        vertical-align: top;\n    }\n\n    .dataframe thead th {\n        text-align: right;\n    }\n</style>\n<table border=\"1\" class=\"dataframe\">\n  <thead>\n    <tr style=\"text-align: right;\">\n      <th></th>\n      <th>event_id</th>\n      <th>lat_lon</th>\n    </tr>\n  </thead>\n  <tbody>\n    <tr>\n      <th>0</th>\n      <td>929077</td>\n      <td>29.4_-95.43</td>\n    </tr>\n    <tr>\n      <th>1</th>\n      <td>929080</td>\n      <td>29.46_-95.05</td>\n    </tr>\n    <tr>\n      <th>2</th>\n      <td>929079</td>\n      <td>29.54_-95.02</td>\n    </tr>\n    <tr>\n      <th>7</th>\n      <td>930415</td>\n      <td>33.0356_-102.0328</td>\n    </tr>\n    <tr>\n      <th>8</th>\n      <td>931477</td>\n      <td>36.8881_-95.2697</td>\n    </tr>\n  </tbody>\n</table>\n</div>"
     },
     "execution_count": 36,
     "metadata": {},
     "output_type": "execute_result"
    }
   ],
   "source": [
    "# ddf.head()"
   ],
   "metadata": {
    "collapsed": false,
    "pycharm": {
     "name": "#%%\n"
    }
   }
  },
  {
   "cell_type": "code",
   "execution_count": 40,
   "outputs": [],
   "source": [
    "# result = ddf.apply(lambda row: get_zipcode(row, lat_lon_field='lat_lon'), axis=1, meta=('lat_lon', 'O'))"
   ],
   "metadata": {
    "collapsed": false,
    "pycharm": {
     "name": "#%%\n"
    }
   }
  },
  {
   "cell_type": "code",
   "execution_count": 41,
   "outputs": [
    {
     "name": "stderr",
     "output_type": "stream",
     "text": [
      "distributed.worker - WARNING - Compute Failed\n",
      "Function:  subgraph_callable-4fed667b-67b7-49c0-967f-ed9e9790\n",
      "args:      (      event_id            lat_lon\n",
      "69920   929782     37.256_-79.669\n",
      "69921   926983    19.929_-155.723\n",
      "69922   926995  19.9445_-155.2556\n",
      "69923   926996  19.7491_-155.1442\n",
      "69924   930687   37.2377_-77.2263\n",
      "...        ...                ...\n",
      "85664   870833       30.23_-81.71\n",
      "85665   870729       30.08_-82.45\n",
      "85666   870837       30.24_-82.14\n",
      "85667   870738       30.64_-81.59\n",
      "85668   870747       29.29_-82.11\n",
      "\n",
      "[3476 rows x 2 columns])\n",
      "kwargs:    {}\n",
      "Exception: 'GeocoderUnavailable(\\'HTTPSConnectionPool(host=\\\\\\'nominatim.openstreetmap.org\\\\\\', port=443): Max retries exceeded with url: /reverse?lat=37.256&lon=-79.669&format=json&addressdetails=1 (Caused by ReadTimeoutError(\"HTTPSConnectionPool(host=\\\\\\'nominatim.openstreetmap.org\\\\\\', port=443): Read timed out. (read timeout=1)\"))\\')'\n",
      "\n",
      "distributed.worker - WARNING - Compute Failed\n",
      "Function:  subgraph_callable-4fed667b-67b7-49c0-967f-ed9e9790\n",
      "args:      (      event_id           lat_lon\n",
      "90216   889928      30.55_-84.22\n",
      "90217   889896      30.16_-85.73\n",
      "90218   889924      30.52_-84.34\n",
      "90219   889936       30.4_-84.02\n",
      "90220   889892      30.72_-85.73\n",
      "...        ...               ...\n",
      "94335   897717      36.43_-84.92\n",
      "94336   897255      35.62_-87.85\n",
      "94337   897694  35.4824_-86.4567\n",
      "94338   898636      35.68_-85.78\n",
      "94339   897258      35.32_-87.77\n",
      "\n",
      "[3476 rows x 2 columns])\n",
      "kwargs:    {}\n",
      "Exception: 'GeocoderUnavailable(\\'HTTPSConnectionPool(host=\\\\\\'nominatim.openstreetmap.org\\\\\\', port=443): Max retries exceeded with url: /reverse?lat=30.55&lon=-84.22&format=json&addressdetails=1 (Caused by ReadTimeoutError(\"HTTPSConnectionPool(host=\\\\\\'nominatim.openstreetmap.org\\\\\\', port=443): Read timed out. (read timeout=1)\"))\\')'\n",
      "\n",
      "distributed.worker - WARNING - Compute Failed\n",
      "Function:  subgraph_callable-4fed667b-67b7-49c0-967f-ed9e9790\n",
      "args:      (      event_id           lat_lon\n",
      "22031   981876  40.8879_-73.8139\n",
      "22032   981848  41.0437_-73.8041\n",
      "22033   981850   41.0865_-73.787\n",
      "22034   981852   41.1319_-73.795\n",
      "22035   981853      41.05_-73.81\n",
      "...        ...               ...\n",
      "34772   958034       35.61_-84.1\n",
      "34773   958035      35.87_-84.68\n",
      "34774   958037      35.46_-84.32\n",
      "34775   958038      36.46_-83.58\n",
      "34776   958039      36.38_-83.69\n",
      "\n",
      "[3476 rows x 2 columns])\n",
      "kwargs:    {}\n",
      "Exception: 'GeocoderUnavailable(\\'HTTPSConnectionPool(host=\\\\\\'nominatim.openstreetmap.org\\\\\\', port=443): Max retries exceeded with url: /reverse?lat=40.8879&lon=-73.8139&format=json&addressdetails=1 (Caused by ReadTimeoutError(\"HTTPSConnectionPool(host=\\\\\\'nominatim.openstreetmap.org\\\\\\', port=443): Read timed out. (read timeout=1)\"))\\')'\n",
      "\n",
      "distributed.worker - WARNING - Compute Failed\n",
      "Function:  subgraph_callable-4fed667b-67b7-49c0-967f-ed9e9790\n",
      "args:      (       event_id            lat_lon\n",
      "103393   927248   40.1161_-76.7361\n",
      "103394   927212       41.98_-79.34\n",
      "103395   927320   39.7621_-76.6721\n",
      "103396   927204        41.8_-79.46\n",
      "103397   927214       41.66_-78.81\n",
      "...         ...                ...\n",
      "107806   935268       24.85_-80.62\n",
      "107807   935269   24.7263_-81.0477\n",
      "107808   935270   24.7263_-81.0477\n",
      "107809   937266  34.0088_-118.4999\n",
      "107810   937267   33.711_-118.2663\n",
      "\n",
      "[3476 rows x 2 columns])\n",
      "kwargs:    {}\n",
      "Exception: 'GeocoderUnavailable(\\'HTTPSConnectionPool(host=\\\\\\'nominatim.openstreetmap.org\\\\\\', port=443): Max retries exceeded with url: /reverse?lat=40.1161&lon=-76.7361&format=json&addressdetails=1 (Caused by ReadTimeoutError(\"HTTPSConnectionPool(host=\\\\\\'nominatim.openstreetmap.org\\\\\\', port=443): Read timed out. (read timeout=1)\"))\\')'\n",
      "\n",
      "distributed.worker - WARNING - Compute Failed\n",
      "Function:  subgraph_callable-4fed667b-67b7-49c0-967f-ed9e9790\n",
      "args:      (      event_id           lat_lon\n",
      "42639   978405      42.65_-73.85\n",
      "42640   978406      42.55_-73.88\n",
      "42641   978413  41.8126_-74.2538\n",
      "42642   978414      41.91_-74.23\n",
      "42643   978416       41.81_-74.3\n",
      "...        ...               ...\n",
      "47224   874548      40.04_-86.13\n",
      "47225   874519      38.98_-86.04\n",
      "47226   874570      39.64_-86.62\n",
      "47227   874529      39.99_-86.14\n",
      "47228   874533   40.0408_-86.072\n",
      "\n",
      "[3476 rows x 2 columns])\n",
      "kwargs:    {}\n",
      "Exception: 'GeocoderUnavailable(\\'HTTPSConnectionPool(host=\\\\\\'nominatim.openstreetmap.org\\\\\\', port=443): Max retries exceeded with url: /reverse?lat=42.65&lon=-73.85&format=json&addressdetails=1 (Caused by ReadTimeoutError(\"HTTPSConnectionPool(host=\\\\\\'nominatim.openstreetmap.org\\\\\\', port=443): Read timed out. (read timeout=1)\"))\\')'\n",
      "\n",
      "distributed.worker - WARNING - Compute Failed\n",
      "Function:  subgraph_callable-4fed667b-67b7-49c0-967f-ed9e9790\n",
      "args:      (      event_id       lat_lon\n",
      "85669   870740  29.83_-82.01\n",
      "85670   870719  30.49_-83.23\n",
      "85671   870739  30.63_-81.57\n",
      "85672   870834   29.56_-82.0\n",
      "85673   870744  30.23_-81.68\n",
      "...        ...           ...\n",
      "90211   889877  30.93_-85.64\n",
      "90212   889941  29.89_-83.41\n",
      "90213   889930   30.54_-84.2\n",
      "90214   889897   30.7_-85.18\n",
      "90215   889934  30.18_-84.37\n",
      "\n",
      "[3476 rows x 2 columns])\n",
      "kwargs:    {}\n",
      "Exception: 'GeocoderUnavailable(\\'HTTPSConnectionPool(host=\\\\\\'nominatim.openstreetmap.org\\\\\\', port=443): Max retries exceeded with url: /reverse?lat=29.83&lon=-82.01&format=json&addressdetails=1 (Caused by ReadTimeoutError(\"HTTPSConnectionPool(host=\\\\\\'nominatim.openstreetmap.org\\\\\\', port=443): Read timed out. (read timeout=1)\"))\\')'\n",
      "\n",
      "distributed.worker - WARNING - Compute Failed\n",
      "Function:  subgraph_callable-4fed667b-67b7-49c0-967f-ed9e9790\n",
      "args:      (      event_id           lat_lon\n",
      "38731   967425      42.05_-84.41\n",
      "38732   967422      42.06_-86.12\n",
      "38733   967419      41.92_-84.63\n",
      "38734   967418       42.0_-84.98\n",
      "38735   967424      41.92_-84.63\n",
      "...        ...               ...\n",
      "42634   978398  42.9052_-74.5661\n",
      "42635   978399  42.9113_-74.5757\n",
      "42636   978402      42.61_-73.97\n",
      "42637   978403      42.67_-73.86\n",
      "42638   978404  42.6889_-73.8254\n",
      "\n",
      "[3476 rows x 2 columns])\n",
      "kwargs:    {}\n",
      "Exception: 'GeocoderUnavailable(\\'HTTPSConnectionPool(host=\\\\\\'nominatim.openstreetmap.org\\\\\\', port=443): Max retries exceeded with url: /reverse?lat=42.05&lon=-84.41&format=json&addressdetails=1 (Caused by ReadTimeoutError(\"HTTPSConnectionPool(host=\\\\\\'nominatim.openstreetmap.org\\\\\\', port=443): Read timed out. (read timeout=1)\"))\\')'\n",
      "\n",
      "distributed.worker - WARNING - Compute Failed\n",
      "Function:  subgraph_callable-4fed667b-67b7-49c0-967f-ed9e9790\n",
      "args:      (      event_id           lat_lon\n",
      "16158   969557      36.99_-76.74\n",
      "16159   969560      38.15_-76.84\n",
      "16160   969561      37.81_-77.36\n",
      "16161   969562      37.23_-76.97\n",
      "16166   969895      37.76_-75.59\n",
      "...        ...               ...\n",
      "22026   981879  40.9112_-73.8524\n",
      "22027   981882   41.053_-73.8221\n",
      "22028   981885  41.0719_-73.8174\n",
      "22029   981888    41.0961_-73.95\n",
      "22030   981891  40.7127_-73.8609\n",
      "\n",
      "[3476 rows x 2 columns])\n",
      "kwargs:    {}\n",
      "Exception: 'GeocoderUnavailable(\\'HTTPSConnectionPool(host=\\\\\\'nominatim.openstreetmap.org\\\\\\', port=443): Max retries exceeded with url: /reverse?lat=36.99&lon=-76.74&format=json&addressdetails=1 (Caused by ReadTimeoutError(\"HTTPSConnectionPool(host=\\\\\\'nominatim.openstreetmap.org\\\\\\', port=443): Read timed out. (read timeout=1)\"))\\')'\n",
      "\n",
      "distributed.worker - WARNING - Compute Failed\n",
      "Function:  subgraph_callable-4fed667b-67b7-49c0-967f-ed9e9790\n",
      "args:      (      event_id           lat_lon\n",
      "94340   897253   36.476_-87.9118\n",
      "94341   897685  36.2008_-86.5354\n",
      "94342   897700       36.22_-86.3\n",
      "94343   897267  35.7886_-86.8441\n",
      "94344   897709       35.7_-85.83\n",
      "...        ...               ...\n",
      "98570   906490      42.85_-92.06\n",
      "98571   909787  42.9937_-92.1217\n",
      "98572   906493       42.8_-91.96\n",
      "98573   918985      41.68_-93.75\n",
      "98574   919232      41.68_-93.23\n",
      "\n",
      "[3476 rows x 2 columns])\n",
      "kwargs:    {}\n",
      "Exception: 'GeocoderUnavailable(\\'HTTPSConnectionPool(host=\\\\\\'nominatim.openstreetmap.org\\\\\\', port=443): Max retries exceeded with url: /reverse?lat=36.476&lon=-87.9118&format=json&addressdetails=1 (Caused by ReadTimeoutError(\"HTTPSConnectionPool(host=\\\\\\'nominatim.openstreetmap.org\\\\\\', port=443): Read timed out. (read timeout=1)\"))\\')'\n",
      "\n",
      "distributed.worker - WARNING - Compute Failed\n",
      "Function:  subgraph_callable-4fed667b-67b7-49c0-967f-ed9e9790\n",
      "args:      (      event_id       lat_lon\n",
      "34777   958040  36.27_-83.81\n",
      "34778   958041   36.2_-83.93\n",
      "34779   958042  36.12_-84.12\n",
      "34780   958043  36.18_-84.09\n",
      "34781   958044  36.31_-84.23\n",
      "...        ...           ...\n",
      "38726   967416  41.92_-84.64\n",
      "38727   967402  41.83_-86.25\n",
      "38728   967412   41.8_-85.42\n",
      "38729   967421   42.02_-86.2\n",
      "38730   967423  42.04_-86.03\n",
      "\n",
      "[3476 rows x 2 columns])\n",
      "kwargs:    {}\n",
      "Exception: 'GeocoderUnavailable(\\'HTTPSConnectionPool(host=\\\\\\'nominatim.openstreetmap.org\\\\\\', port=443): Max retries exceeded with url: /reverse?lat=36.27&lon=-83.81&format=json&addressdetails=1 (Caused by ReadTimeoutError(\"HTTPSConnectionPool(host=\\\\\\'nominatim.openstreetmap.org\\\\\\', port=443): Read timed out. (read timeout=1)\"))\\')'\n",
      "\n"
     ]
    },
    {
     "ename": "GeocoderUnavailable",
     "evalue": "HTTPSConnectionPool(host='nominatim.openstreetmap.org', port=443): Max retries exceeded with url: /reverse?lat=37.256&lon=-79.669&format=json&addressdetails=1 (Caused by ReadTimeoutError(\"HTTPSConnectionPool(host='nominatim.openstreetmap.org', port=443): Read timed out. (read timeout=1)\"))",
     "output_type": "error",
     "traceback": [
      "\u001B[0;31m---------------------------------------------------------------------------\u001B[0m",
      "\u001B[0;31mGeocoderUnavailable\u001B[0m                       Traceback (most recent call last)",
      "\u001B[0;32m/var/folders/4w/fmg2_c4x0q987gc2ly17255c0000gn/T/ipykernel_64468/3798248850.py\u001B[0m in \u001B[0;36m<module>\u001B[0;34m\u001B[0m\n\u001B[0;32m----> 1\u001B[0;31m \u001B[0mr\u001B[0m \u001B[0;34m=\u001B[0m \u001B[0mresult\u001B[0m\u001B[0;34m.\u001B[0m\u001B[0mcompute\u001B[0m\u001B[0;34m(\u001B[0m\u001B[0;34m)\u001B[0m\u001B[0;34m\u001B[0m\u001B[0;34m\u001B[0m\u001B[0m\n\u001B[0m",
      "\u001B[0;32m~/.local/share/virtualenvs/cra-ZUCDQa7D/lib/python3.9/site-packages/dask/base.py\u001B[0m in \u001B[0;36mcompute\u001B[0;34m(self, **kwargs)\u001B[0m\n\u001B[1;32m    286\u001B[0m         \u001B[0mdask\u001B[0m\u001B[0;34m.\u001B[0m\u001B[0mbase\u001B[0m\u001B[0;34m.\u001B[0m\u001B[0mcompute\u001B[0m\u001B[0;34m\u001B[0m\u001B[0;34m\u001B[0m\u001B[0m\n\u001B[1;32m    287\u001B[0m         \"\"\"\n\u001B[0;32m--> 288\u001B[0;31m         \u001B[0;34m(\u001B[0m\u001B[0mresult\u001B[0m\u001B[0;34m,\u001B[0m\u001B[0;34m)\u001B[0m \u001B[0;34m=\u001B[0m \u001B[0mcompute\u001B[0m\u001B[0;34m(\u001B[0m\u001B[0mself\u001B[0m\u001B[0;34m,\u001B[0m \u001B[0mtraverse\u001B[0m\u001B[0;34m=\u001B[0m\u001B[0;32mFalse\u001B[0m\u001B[0;34m,\u001B[0m \u001B[0;34m**\u001B[0m\u001B[0mkwargs\u001B[0m\u001B[0;34m)\u001B[0m\u001B[0;34m\u001B[0m\u001B[0;34m\u001B[0m\u001B[0m\n\u001B[0m\u001B[1;32m    289\u001B[0m         \u001B[0;32mreturn\u001B[0m \u001B[0mresult\u001B[0m\u001B[0;34m\u001B[0m\u001B[0;34m\u001B[0m\u001B[0m\n\u001B[1;32m    290\u001B[0m \u001B[0;34m\u001B[0m\u001B[0m\n",
      "\u001B[0;32m~/.local/share/virtualenvs/cra-ZUCDQa7D/lib/python3.9/site-packages/dask/base.py\u001B[0m in \u001B[0;36mcompute\u001B[0;34m(traverse, optimize_graph, scheduler, get, *args, **kwargs)\u001B[0m\n\u001B[1;32m    569\u001B[0m         \u001B[0mpostcomputes\u001B[0m\u001B[0;34m.\u001B[0m\u001B[0mappend\u001B[0m\u001B[0;34m(\u001B[0m\u001B[0mx\u001B[0m\u001B[0;34m.\u001B[0m\u001B[0m__dask_postcompute__\u001B[0m\u001B[0;34m(\u001B[0m\u001B[0;34m)\u001B[0m\u001B[0;34m)\u001B[0m\u001B[0;34m\u001B[0m\u001B[0;34m\u001B[0m\u001B[0m\n\u001B[1;32m    570\u001B[0m \u001B[0;34m\u001B[0m\u001B[0m\n\u001B[0;32m--> 571\u001B[0;31m     \u001B[0mresults\u001B[0m \u001B[0;34m=\u001B[0m \u001B[0mschedule\u001B[0m\u001B[0;34m(\u001B[0m\u001B[0mdsk\u001B[0m\u001B[0;34m,\u001B[0m \u001B[0mkeys\u001B[0m\u001B[0;34m,\u001B[0m \u001B[0;34m**\u001B[0m\u001B[0mkwargs\u001B[0m\u001B[0;34m)\u001B[0m\u001B[0;34m\u001B[0m\u001B[0;34m\u001B[0m\u001B[0m\n\u001B[0m\u001B[1;32m    572\u001B[0m     \u001B[0;32mreturn\u001B[0m \u001B[0mrepack\u001B[0m\u001B[0;34m(\u001B[0m\u001B[0;34m[\u001B[0m\u001B[0mf\u001B[0m\u001B[0;34m(\u001B[0m\u001B[0mr\u001B[0m\u001B[0;34m,\u001B[0m \u001B[0;34m*\u001B[0m\u001B[0ma\u001B[0m\u001B[0;34m)\u001B[0m \u001B[0;32mfor\u001B[0m \u001B[0mr\u001B[0m\u001B[0;34m,\u001B[0m \u001B[0;34m(\u001B[0m\u001B[0mf\u001B[0m\u001B[0;34m,\u001B[0m \u001B[0ma\u001B[0m\u001B[0;34m)\u001B[0m \u001B[0;32min\u001B[0m \u001B[0mzip\u001B[0m\u001B[0;34m(\u001B[0m\u001B[0mresults\u001B[0m\u001B[0;34m,\u001B[0m \u001B[0mpostcomputes\u001B[0m\u001B[0;34m)\u001B[0m\u001B[0;34m]\u001B[0m\u001B[0;34m)\u001B[0m\u001B[0;34m\u001B[0m\u001B[0;34m\u001B[0m\u001B[0m\n\u001B[1;32m    573\u001B[0m \u001B[0;34m\u001B[0m\u001B[0m\n",
      "\u001B[0;32m~/.local/share/virtualenvs/cra-ZUCDQa7D/lib/python3.9/site-packages/distributed/client.py\u001B[0m in \u001B[0;36mget\u001B[0;34m(self, dsk, keys, workers, allow_other_workers, resources, sync, asynchronous, direct, retries, priority, fifo_timeout, actors, **kwargs)\u001B[0m\n\u001B[1;32m   2723\u001B[0m                     \u001B[0mshould_rejoin\u001B[0m \u001B[0;34m=\u001B[0m \u001B[0;32mFalse\u001B[0m\u001B[0;34m\u001B[0m\u001B[0;34m\u001B[0m\u001B[0m\n\u001B[1;32m   2724\u001B[0m             \u001B[0;32mtry\u001B[0m\u001B[0;34m:\u001B[0m\u001B[0;34m\u001B[0m\u001B[0;34m\u001B[0m\u001B[0m\n\u001B[0;32m-> 2725\u001B[0;31m                 \u001B[0mresults\u001B[0m \u001B[0;34m=\u001B[0m \u001B[0mself\u001B[0m\u001B[0;34m.\u001B[0m\u001B[0mgather\u001B[0m\u001B[0;34m(\u001B[0m\u001B[0mpacked\u001B[0m\u001B[0;34m,\u001B[0m \u001B[0masynchronous\u001B[0m\u001B[0;34m=\u001B[0m\u001B[0masynchronous\u001B[0m\u001B[0;34m,\u001B[0m \u001B[0mdirect\u001B[0m\u001B[0;34m=\u001B[0m\u001B[0mdirect\u001B[0m\u001B[0;34m)\u001B[0m\u001B[0;34m\u001B[0m\u001B[0;34m\u001B[0m\u001B[0m\n\u001B[0m\u001B[1;32m   2726\u001B[0m             \u001B[0;32mfinally\u001B[0m\u001B[0;34m:\u001B[0m\u001B[0;34m\u001B[0m\u001B[0;34m\u001B[0m\u001B[0m\n\u001B[1;32m   2727\u001B[0m                 \u001B[0;32mfor\u001B[0m \u001B[0mf\u001B[0m \u001B[0;32min\u001B[0m \u001B[0mfutures\u001B[0m\u001B[0;34m.\u001B[0m\u001B[0mvalues\u001B[0m\u001B[0;34m(\u001B[0m\u001B[0;34m)\u001B[0m\u001B[0;34m:\u001B[0m\u001B[0;34m\u001B[0m\u001B[0;34m\u001B[0m\u001B[0m\n",
      "\u001B[0;32m~/.local/share/virtualenvs/cra-ZUCDQa7D/lib/python3.9/site-packages/distributed/client.py\u001B[0m in \u001B[0;36mgather\u001B[0;34m(self, futures, errors, direct, asynchronous)\u001B[0m\n\u001B[1;32m   1978\u001B[0m             \u001B[0;32melse\u001B[0m\u001B[0;34m:\u001B[0m\u001B[0;34m\u001B[0m\u001B[0;34m\u001B[0m\u001B[0m\n\u001B[1;32m   1979\u001B[0m                 \u001B[0mlocal_worker\u001B[0m \u001B[0;34m=\u001B[0m \u001B[0;32mNone\u001B[0m\u001B[0;34m\u001B[0m\u001B[0;34m\u001B[0m\u001B[0m\n\u001B[0;32m-> 1980\u001B[0;31m             return self.sync(\n\u001B[0m\u001B[1;32m   1981\u001B[0m                 \u001B[0mself\u001B[0m\u001B[0;34m.\u001B[0m\u001B[0m_gather\u001B[0m\u001B[0;34m,\u001B[0m\u001B[0;34m\u001B[0m\u001B[0;34m\u001B[0m\u001B[0m\n\u001B[1;32m   1982\u001B[0m                 \u001B[0mfutures\u001B[0m\u001B[0;34m,\u001B[0m\u001B[0;34m\u001B[0m\u001B[0;34m\u001B[0m\u001B[0m\n",
      "\u001B[0;32m~/.local/share/virtualenvs/cra-ZUCDQa7D/lib/python3.9/site-packages/distributed/client.py\u001B[0m in \u001B[0;36msync\u001B[0;34m(self, func, asynchronous, callback_timeout, *args, **kwargs)\u001B[0m\n\u001B[1;32m    866\u001B[0m             \u001B[0;32mreturn\u001B[0m \u001B[0mfuture\u001B[0m\u001B[0;34m\u001B[0m\u001B[0;34m\u001B[0m\u001B[0m\n\u001B[1;32m    867\u001B[0m         \u001B[0;32melse\u001B[0m\u001B[0;34m:\u001B[0m\u001B[0;34m\u001B[0m\u001B[0;34m\u001B[0m\u001B[0m\n\u001B[0;32m--> 868\u001B[0;31m             return sync(\n\u001B[0m\u001B[1;32m    869\u001B[0m                 \u001B[0mself\u001B[0m\u001B[0;34m.\u001B[0m\u001B[0mloop\u001B[0m\u001B[0;34m,\u001B[0m \u001B[0mfunc\u001B[0m\u001B[0;34m,\u001B[0m \u001B[0;34m*\u001B[0m\u001B[0margs\u001B[0m\u001B[0;34m,\u001B[0m \u001B[0mcallback_timeout\u001B[0m\u001B[0;34m=\u001B[0m\u001B[0mcallback_timeout\u001B[0m\u001B[0;34m,\u001B[0m \u001B[0;34m**\u001B[0m\u001B[0mkwargs\u001B[0m\u001B[0;34m\u001B[0m\u001B[0;34m\u001B[0m\u001B[0m\n\u001B[1;32m    870\u001B[0m             )\n",
      "\u001B[0;32m~/.local/share/virtualenvs/cra-ZUCDQa7D/lib/python3.9/site-packages/distributed/utils.py\u001B[0m in \u001B[0;36msync\u001B[0;34m(loop, func, callback_timeout, *args, **kwargs)\u001B[0m\n\u001B[1;32m    330\u001B[0m     \u001B[0;32mif\u001B[0m \u001B[0merror\u001B[0m\u001B[0;34m[\u001B[0m\u001B[0;36m0\u001B[0m\u001B[0;34m]\u001B[0m\u001B[0;34m:\u001B[0m\u001B[0;34m\u001B[0m\u001B[0;34m\u001B[0m\u001B[0m\n\u001B[1;32m    331\u001B[0m         \u001B[0mtyp\u001B[0m\u001B[0;34m,\u001B[0m \u001B[0mexc\u001B[0m\u001B[0;34m,\u001B[0m \u001B[0mtb\u001B[0m \u001B[0;34m=\u001B[0m \u001B[0merror\u001B[0m\u001B[0;34m[\u001B[0m\u001B[0;36m0\u001B[0m\u001B[0;34m]\u001B[0m\u001B[0;34m\u001B[0m\u001B[0;34m\u001B[0m\u001B[0m\n\u001B[0;32m--> 332\u001B[0;31m         \u001B[0;32mraise\u001B[0m \u001B[0mexc\u001B[0m\u001B[0;34m.\u001B[0m\u001B[0mwith_traceback\u001B[0m\u001B[0;34m(\u001B[0m\u001B[0mtb\u001B[0m\u001B[0;34m)\u001B[0m\u001B[0;34m\u001B[0m\u001B[0;34m\u001B[0m\u001B[0m\n\u001B[0m\u001B[1;32m    333\u001B[0m     \u001B[0;32melse\u001B[0m\u001B[0;34m:\u001B[0m\u001B[0;34m\u001B[0m\u001B[0;34m\u001B[0m\u001B[0m\n\u001B[1;32m    334\u001B[0m         \u001B[0;32mreturn\u001B[0m \u001B[0mresult\u001B[0m\u001B[0;34m[\u001B[0m\u001B[0;36m0\u001B[0m\u001B[0;34m]\u001B[0m\u001B[0;34m\u001B[0m\u001B[0;34m\u001B[0m\u001B[0m\n",
      "\u001B[0;32m~/.local/share/virtualenvs/cra-ZUCDQa7D/lib/python3.9/site-packages/distributed/utils.py\u001B[0m in \u001B[0;36mf\u001B[0;34m()\u001B[0m\n\u001B[1;32m    313\u001B[0m             \u001B[0;32mif\u001B[0m \u001B[0mcallback_timeout\u001B[0m \u001B[0;32mis\u001B[0m \u001B[0;32mnot\u001B[0m \u001B[0;32mNone\u001B[0m\u001B[0;34m:\u001B[0m\u001B[0;34m\u001B[0m\u001B[0;34m\u001B[0m\u001B[0m\n\u001B[1;32m    314\u001B[0m                 \u001B[0mfuture\u001B[0m \u001B[0;34m=\u001B[0m \u001B[0masyncio\u001B[0m\u001B[0;34m.\u001B[0m\u001B[0mwait_for\u001B[0m\u001B[0;34m(\u001B[0m\u001B[0mfuture\u001B[0m\u001B[0;34m,\u001B[0m \u001B[0mcallback_timeout\u001B[0m\u001B[0;34m)\u001B[0m\u001B[0;34m\u001B[0m\u001B[0;34m\u001B[0m\u001B[0m\n\u001B[0;32m--> 315\u001B[0;31m             \u001B[0mresult\u001B[0m\u001B[0;34m[\u001B[0m\u001B[0;36m0\u001B[0m\u001B[0;34m]\u001B[0m \u001B[0;34m=\u001B[0m \u001B[0;32myield\u001B[0m \u001B[0mfuture\u001B[0m\u001B[0;34m\u001B[0m\u001B[0;34m\u001B[0m\u001B[0m\n\u001B[0m\u001B[1;32m    316\u001B[0m         \u001B[0;32mexcept\u001B[0m \u001B[0mException\u001B[0m\u001B[0;34m:\u001B[0m\u001B[0;34m\u001B[0m\u001B[0;34m\u001B[0m\u001B[0m\n\u001B[1;32m    317\u001B[0m             \u001B[0merror\u001B[0m\u001B[0;34m[\u001B[0m\u001B[0;36m0\u001B[0m\u001B[0;34m]\u001B[0m \u001B[0;34m=\u001B[0m \u001B[0msys\u001B[0m\u001B[0;34m.\u001B[0m\u001B[0mexc_info\u001B[0m\u001B[0;34m(\u001B[0m\u001B[0;34m)\u001B[0m\u001B[0;34m\u001B[0m\u001B[0;34m\u001B[0m\u001B[0m\n",
      "\u001B[0;32m~/.local/share/virtualenvs/cra-ZUCDQa7D/lib/python3.9/site-packages/tornado/gen.py\u001B[0m in \u001B[0;36mrun\u001B[0;34m(self)\u001B[0m\n\u001B[1;32m    760\u001B[0m \u001B[0;34m\u001B[0m\u001B[0m\n\u001B[1;32m    761\u001B[0m                     \u001B[0;32mtry\u001B[0m\u001B[0;34m:\u001B[0m\u001B[0;34m\u001B[0m\u001B[0;34m\u001B[0m\u001B[0m\n\u001B[0;32m--> 762\u001B[0;31m                         \u001B[0mvalue\u001B[0m \u001B[0;34m=\u001B[0m \u001B[0mfuture\u001B[0m\u001B[0;34m.\u001B[0m\u001B[0mresult\u001B[0m\u001B[0;34m(\u001B[0m\u001B[0;34m)\u001B[0m\u001B[0;34m\u001B[0m\u001B[0;34m\u001B[0m\u001B[0m\n\u001B[0m\u001B[1;32m    763\u001B[0m                     \u001B[0;32mexcept\u001B[0m \u001B[0mException\u001B[0m\u001B[0;34m:\u001B[0m\u001B[0;34m\u001B[0m\u001B[0;34m\u001B[0m\u001B[0m\n\u001B[1;32m    764\u001B[0m                         \u001B[0mexc_info\u001B[0m \u001B[0;34m=\u001B[0m \u001B[0msys\u001B[0m\u001B[0;34m.\u001B[0m\u001B[0mexc_info\u001B[0m\u001B[0;34m(\u001B[0m\u001B[0;34m)\u001B[0m\u001B[0;34m\u001B[0m\u001B[0;34m\u001B[0m\u001B[0m\n",
      "\u001B[0;32m~/.local/share/virtualenvs/cra-ZUCDQa7D/lib/python3.9/site-packages/distributed/client.py\u001B[0m in \u001B[0;36m_gather\u001B[0;34m(self, futures, errors, direct, local_worker)\u001B[0m\n\u001B[1;32m   1843\u001B[0m                             \u001B[0mexc\u001B[0m \u001B[0;34m=\u001B[0m \u001B[0mCancelledError\u001B[0m\u001B[0;34m(\u001B[0m\u001B[0mkey\u001B[0m\u001B[0;34m)\u001B[0m\u001B[0;34m\u001B[0m\u001B[0;34m\u001B[0m\u001B[0m\n\u001B[1;32m   1844\u001B[0m                         \u001B[0;32melse\u001B[0m\u001B[0;34m:\u001B[0m\u001B[0;34m\u001B[0m\u001B[0;34m\u001B[0m\u001B[0m\n\u001B[0;32m-> 1845\u001B[0;31m                             \u001B[0;32mraise\u001B[0m \u001B[0mexception\u001B[0m\u001B[0;34m.\u001B[0m\u001B[0mwith_traceback\u001B[0m\u001B[0;34m(\u001B[0m\u001B[0mtraceback\u001B[0m\u001B[0;34m)\u001B[0m\u001B[0;34m\u001B[0m\u001B[0;34m\u001B[0m\u001B[0m\n\u001B[0m\u001B[1;32m   1846\u001B[0m                         \u001B[0;32mraise\u001B[0m \u001B[0mexc\u001B[0m\u001B[0;34m\u001B[0m\u001B[0;34m\u001B[0m\u001B[0m\n\u001B[1;32m   1847\u001B[0m                     \u001B[0;32mif\u001B[0m \u001B[0merrors\u001B[0m \u001B[0;34m==\u001B[0m \u001B[0;34m\"skip\"\u001B[0m\u001B[0;34m:\u001B[0m\u001B[0;34m\u001B[0m\u001B[0;34m\u001B[0m\u001B[0m\n",
      "\u001B[0;32m~/.local/share/virtualenvs/cra-ZUCDQa7D/lib/python3.9/site-packages/dask/optimization.py\u001B[0m in \u001B[0;36m__call__\u001B[0;34m()\u001B[0m\n\u001B[1;32m    967\u001B[0m         \u001B[0;32mif\u001B[0m \u001B[0;32mnot\u001B[0m \u001B[0mlen\u001B[0m\u001B[0;34m(\u001B[0m\u001B[0margs\u001B[0m\u001B[0;34m)\u001B[0m \u001B[0;34m==\u001B[0m \u001B[0mlen\u001B[0m\u001B[0;34m(\u001B[0m\u001B[0mself\u001B[0m\u001B[0;34m.\u001B[0m\u001B[0minkeys\u001B[0m\u001B[0;34m)\u001B[0m\u001B[0;34m:\u001B[0m\u001B[0;34m\u001B[0m\u001B[0;34m\u001B[0m\u001B[0m\n\u001B[1;32m    968\u001B[0m             \u001B[0;32mraise\u001B[0m \u001B[0mValueError\u001B[0m\u001B[0;34m(\u001B[0m\u001B[0;34m\"Expected %d args, got %d\"\u001B[0m \u001B[0;34m%\u001B[0m \u001B[0;34m(\u001B[0m\u001B[0mlen\u001B[0m\u001B[0;34m(\u001B[0m\u001B[0mself\u001B[0m\u001B[0;34m.\u001B[0m\u001B[0minkeys\u001B[0m\u001B[0;34m)\u001B[0m\u001B[0;34m,\u001B[0m \u001B[0mlen\u001B[0m\u001B[0;34m(\u001B[0m\u001B[0margs\u001B[0m\u001B[0;34m)\u001B[0m\u001B[0;34m)\u001B[0m\u001B[0;34m)\u001B[0m\u001B[0;34m\u001B[0m\u001B[0;34m\u001B[0m\u001B[0m\n\u001B[0;32m--> 969\u001B[0;31m         \u001B[0;32mreturn\u001B[0m \u001B[0mcore\u001B[0m\u001B[0;34m.\u001B[0m\u001B[0mget\u001B[0m\u001B[0;34m(\u001B[0m\u001B[0mself\u001B[0m\u001B[0;34m.\u001B[0m\u001B[0mdsk\u001B[0m\u001B[0;34m,\u001B[0m \u001B[0mself\u001B[0m\u001B[0;34m.\u001B[0m\u001B[0moutkey\u001B[0m\u001B[0;34m,\u001B[0m \u001B[0mdict\u001B[0m\u001B[0;34m(\u001B[0m\u001B[0mzip\u001B[0m\u001B[0;34m(\u001B[0m\u001B[0mself\u001B[0m\u001B[0;34m.\u001B[0m\u001B[0minkeys\u001B[0m\u001B[0;34m,\u001B[0m \u001B[0margs\u001B[0m\u001B[0;34m)\u001B[0m\u001B[0;34m)\u001B[0m\u001B[0;34m)\u001B[0m\u001B[0;34m\u001B[0m\u001B[0;34m\u001B[0m\u001B[0m\n\u001B[0m\u001B[1;32m    970\u001B[0m \u001B[0;34m\u001B[0m\u001B[0m\n\u001B[1;32m    971\u001B[0m     \u001B[0;32mdef\u001B[0m \u001B[0m__reduce__\u001B[0m\u001B[0;34m(\u001B[0m\u001B[0mself\u001B[0m\u001B[0;34m)\u001B[0m\u001B[0;34m:\u001B[0m\u001B[0;34m\u001B[0m\u001B[0;34m\u001B[0m\u001B[0m\n",
      "\u001B[0;32m~/.local/share/virtualenvs/cra-ZUCDQa7D/lib/python3.9/site-packages/dask/core.py\u001B[0m in \u001B[0;36mget\u001B[0;34m()\u001B[0m\n\u001B[1;32m    147\u001B[0m     \u001B[0;32mfor\u001B[0m \u001B[0mkey\u001B[0m \u001B[0;32min\u001B[0m \u001B[0mtoposort\u001B[0m\u001B[0;34m(\u001B[0m\u001B[0mdsk\u001B[0m\u001B[0;34m)\u001B[0m\u001B[0;34m:\u001B[0m\u001B[0;34m\u001B[0m\u001B[0;34m\u001B[0m\u001B[0m\n\u001B[1;32m    148\u001B[0m         \u001B[0mtask\u001B[0m \u001B[0;34m=\u001B[0m \u001B[0mdsk\u001B[0m\u001B[0;34m[\u001B[0m\u001B[0mkey\u001B[0m\u001B[0;34m]\u001B[0m\u001B[0;34m\u001B[0m\u001B[0;34m\u001B[0m\u001B[0m\n\u001B[0;32m--> 149\u001B[0;31m         \u001B[0mresult\u001B[0m \u001B[0;34m=\u001B[0m \u001B[0m_execute_task\u001B[0m\u001B[0;34m(\u001B[0m\u001B[0mtask\u001B[0m\u001B[0;34m,\u001B[0m \u001B[0mcache\u001B[0m\u001B[0;34m)\u001B[0m\u001B[0;34m\u001B[0m\u001B[0;34m\u001B[0m\u001B[0m\n\u001B[0m\u001B[1;32m    150\u001B[0m         \u001B[0mcache\u001B[0m\u001B[0;34m[\u001B[0m\u001B[0mkey\u001B[0m\u001B[0;34m]\u001B[0m \u001B[0;34m=\u001B[0m \u001B[0mresult\u001B[0m\u001B[0;34m\u001B[0m\u001B[0;34m\u001B[0m\u001B[0m\n\u001B[1;32m    151\u001B[0m     \u001B[0mresult\u001B[0m \u001B[0;34m=\u001B[0m \u001B[0m_execute_task\u001B[0m\u001B[0;34m(\u001B[0m\u001B[0mout\u001B[0m\u001B[0;34m,\u001B[0m \u001B[0mcache\u001B[0m\u001B[0;34m)\u001B[0m\u001B[0;34m\u001B[0m\u001B[0;34m\u001B[0m\u001B[0m\n",
      "\u001B[0;32m~/.local/share/virtualenvs/cra-ZUCDQa7D/lib/python3.9/site-packages/dask/core.py\u001B[0m in \u001B[0;36m_execute_task\u001B[0;34m()\u001B[0m\n\u001B[1;32m    117\u001B[0m         \u001B[0;31m# temporaries by their reference count and can execute certain\u001B[0m\u001B[0;34m\u001B[0m\u001B[0;34m\u001B[0m\u001B[0;34m\u001B[0m\u001B[0m\n\u001B[1;32m    118\u001B[0m         \u001B[0;31m# operations in-place.\u001B[0m\u001B[0;34m\u001B[0m\u001B[0;34m\u001B[0m\u001B[0;34m\u001B[0m\u001B[0m\n\u001B[0;32m--> 119\u001B[0;31m         \u001B[0;32mreturn\u001B[0m \u001B[0mfunc\u001B[0m\u001B[0;34m(\u001B[0m\u001B[0;34m*\u001B[0m\u001B[0;34m(\u001B[0m\u001B[0m_execute_task\u001B[0m\u001B[0;34m(\u001B[0m\u001B[0ma\u001B[0m\u001B[0;34m,\u001B[0m \u001B[0mcache\u001B[0m\u001B[0;34m)\u001B[0m \u001B[0;32mfor\u001B[0m \u001B[0ma\u001B[0m \u001B[0;32min\u001B[0m \u001B[0margs\u001B[0m\u001B[0;34m)\u001B[0m\u001B[0;34m)\u001B[0m\u001B[0;34m\u001B[0m\u001B[0;34m\u001B[0m\u001B[0m\n\u001B[0m\u001B[1;32m    120\u001B[0m     \u001B[0;32melif\u001B[0m \u001B[0;32mnot\u001B[0m \u001B[0mishashable\u001B[0m\u001B[0;34m(\u001B[0m\u001B[0marg\u001B[0m\u001B[0;34m)\u001B[0m\u001B[0;34m:\u001B[0m\u001B[0;34m\u001B[0m\u001B[0;34m\u001B[0m\u001B[0m\n\u001B[1;32m    121\u001B[0m         \u001B[0;32mreturn\u001B[0m \u001B[0marg\u001B[0m\u001B[0;34m\u001B[0m\u001B[0;34m\u001B[0m\u001B[0m\n",
      "\u001B[0;32m~/.local/share/virtualenvs/cra-ZUCDQa7D/lib/python3.9/site-packages/dask/utils.py\u001B[0m in \u001B[0;36mapply\u001B[0;34m()\u001B[0m\n\u001B[1;32m     35\u001B[0m \u001B[0;32mdef\u001B[0m \u001B[0mapply\u001B[0m\u001B[0;34m(\u001B[0m\u001B[0mfunc\u001B[0m\u001B[0;34m,\u001B[0m \u001B[0margs\u001B[0m\u001B[0;34m,\u001B[0m \u001B[0mkwargs\u001B[0m\u001B[0;34m=\u001B[0m\u001B[0;32mNone\u001B[0m\u001B[0;34m)\u001B[0m\u001B[0;34m:\u001B[0m\u001B[0;34m\u001B[0m\u001B[0;34m\u001B[0m\u001B[0m\n\u001B[1;32m     36\u001B[0m     \u001B[0;32mif\u001B[0m \u001B[0mkwargs\u001B[0m\u001B[0;34m:\u001B[0m\u001B[0;34m\u001B[0m\u001B[0;34m\u001B[0m\u001B[0m\n\u001B[0;32m---> 37\u001B[0;31m         \u001B[0;32mreturn\u001B[0m \u001B[0mfunc\u001B[0m\u001B[0;34m(\u001B[0m\u001B[0;34m*\u001B[0m\u001B[0margs\u001B[0m\u001B[0;34m,\u001B[0m \u001B[0;34m**\u001B[0m\u001B[0mkwargs\u001B[0m\u001B[0;34m)\u001B[0m\u001B[0;34m\u001B[0m\u001B[0;34m\u001B[0m\u001B[0m\n\u001B[0m\u001B[1;32m     38\u001B[0m     \u001B[0;32melse\u001B[0m\u001B[0;34m:\u001B[0m\u001B[0;34m\u001B[0m\u001B[0;34m\u001B[0m\u001B[0m\n\u001B[1;32m     39\u001B[0m         \u001B[0;32mreturn\u001B[0m \u001B[0mfunc\u001B[0m\u001B[0;34m(\u001B[0m\u001B[0;34m*\u001B[0m\u001B[0margs\u001B[0m\u001B[0;34m)\u001B[0m\u001B[0;34m\u001B[0m\u001B[0;34m\u001B[0m\u001B[0m\n",
      "\u001B[0;32m~/.local/share/virtualenvs/cra-ZUCDQa7D/lib/python3.9/site-packages/dask/dataframe/core.py\u001B[0m in \u001B[0;36mapply_and_enforce\u001B[0;34m()\u001B[0m\n\u001B[1;32m   6010\u001B[0m     \u001B[0mfunc\u001B[0m \u001B[0;34m=\u001B[0m \u001B[0mkwargs\u001B[0m\u001B[0;34m.\u001B[0m\u001B[0mpop\u001B[0m\u001B[0;34m(\u001B[0m\u001B[0;34m\"_func\"\u001B[0m\u001B[0;34m)\u001B[0m\u001B[0;34m\u001B[0m\u001B[0;34m\u001B[0m\u001B[0m\n\u001B[1;32m   6011\u001B[0m     \u001B[0mmeta\u001B[0m \u001B[0;34m=\u001B[0m \u001B[0mkwargs\u001B[0m\u001B[0;34m.\u001B[0m\u001B[0mpop\u001B[0m\u001B[0;34m(\u001B[0m\u001B[0;34m\"_meta\"\u001B[0m\u001B[0;34m)\u001B[0m\u001B[0;34m\u001B[0m\u001B[0;34m\u001B[0m\u001B[0m\n\u001B[0;32m-> 6012\u001B[0;31m     \u001B[0mdf\u001B[0m \u001B[0;34m=\u001B[0m \u001B[0mfunc\u001B[0m\u001B[0;34m(\u001B[0m\u001B[0;34m*\u001B[0m\u001B[0margs\u001B[0m\u001B[0;34m,\u001B[0m \u001B[0;34m**\u001B[0m\u001B[0mkwargs\u001B[0m\u001B[0;34m)\u001B[0m\u001B[0;34m\u001B[0m\u001B[0;34m\u001B[0m\u001B[0m\n\u001B[0m\u001B[1;32m   6013\u001B[0m     \u001B[0;32mif\u001B[0m \u001B[0mis_dataframe_like\u001B[0m\u001B[0;34m(\u001B[0m\u001B[0mdf\u001B[0m\u001B[0;34m)\u001B[0m \u001B[0;32mor\u001B[0m \u001B[0mis_series_like\u001B[0m\u001B[0;34m(\u001B[0m\u001B[0mdf\u001B[0m\u001B[0;34m)\u001B[0m \u001B[0;32mor\u001B[0m \u001B[0mis_index_like\u001B[0m\u001B[0;34m(\u001B[0m\u001B[0mdf\u001B[0m\u001B[0;34m)\u001B[0m\u001B[0;34m:\u001B[0m\u001B[0;34m\u001B[0m\u001B[0;34m\u001B[0m\u001B[0m\n\u001B[1;32m   6014\u001B[0m         \u001B[0;32mif\u001B[0m \u001B[0;32mnot\u001B[0m \u001B[0mlen\u001B[0m\u001B[0;34m(\u001B[0m\u001B[0mdf\u001B[0m\u001B[0;34m)\u001B[0m\u001B[0;34m:\u001B[0m\u001B[0;34m\u001B[0m\u001B[0;34m\u001B[0m\u001B[0m\n",
      "\u001B[0;32m~/.local/share/virtualenvs/cra-ZUCDQa7D/lib/python3.9/site-packages/dask/utils.py\u001B[0m in \u001B[0;36m__call__\u001B[0;34m()\u001B[0m\n\u001B[1;32m   1019\u001B[0m \u001B[0;34m\u001B[0m\u001B[0m\n\u001B[1;32m   1020\u001B[0m     \u001B[0;32mdef\u001B[0m \u001B[0m__call__\u001B[0m\u001B[0;34m(\u001B[0m\u001B[0mself\u001B[0m\u001B[0;34m,\u001B[0m \u001B[0m__obj\u001B[0m\u001B[0;34m,\u001B[0m \u001B[0;34m*\u001B[0m\u001B[0margs\u001B[0m\u001B[0;34m,\u001B[0m \u001B[0;34m**\u001B[0m\u001B[0mkwargs\u001B[0m\u001B[0;34m)\u001B[0m\u001B[0;34m:\u001B[0m\u001B[0;34m\u001B[0m\u001B[0;34m\u001B[0m\u001B[0m\n\u001B[0;32m-> 1021\u001B[0;31m         \u001B[0;32mreturn\u001B[0m \u001B[0mgetattr\u001B[0m\u001B[0;34m(\u001B[0m\u001B[0m__obj\u001B[0m\u001B[0;34m,\u001B[0m \u001B[0mself\u001B[0m\u001B[0;34m.\u001B[0m\u001B[0mmethod\u001B[0m\u001B[0;34m)\u001B[0m\u001B[0;34m(\u001B[0m\u001B[0;34m*\u001B[0m\u001B[0margs\u001B[0m\u001B[0;34m,\u001B[0m \u001B[0;34m**\u001B[0m\u001B[0mkwargs\u001B[0m\u001B[0;34m)\u001B[0m\u001B[0;34m\u001B[0m\u001B[0;34m\u001B[0m\u001B[0m\n\u001B[0m\u001B[1;32m   1022\u001B[0m \u001B[0;34m\u001B[0m\u001B[0m\n\u001B[1;32m   1023\u001B[0m     \u001B[0;32mdef\u001B[0m \u001B[0m__reduce__\u001B[0m\u001B[0;34m(\u001B[0m\u001B[0mself\u001B[0m\u001B[0;34m)\u001B[0m\u001B[0;34m:\u001B[0m\u001B[0;34m\u001B[0m\u001B[0;34m\u001B[0m\u001B[0m\n",
      "\u001B[0;32m~/.local/share/virtualenvs/cra-ZUCDQa7D/lib/python3.9/site-packages/pandas/core/frame.py\u001B[0m in \u001B[0;36mapply\u001B[0;34m()\u001B[0m\n\u001B[1;32m   8738\u001B[0m             \u001B[0mkwargs\u001B[0m\u001B[0;34m=\u001B[0m\u001B[0mkwargs\u001B[0m\u001B[0;34m,\u001B[0m\u001B[0;34m\u001B[0m\u001B[0;34m\u001B[0m\u001B[0m\n\u001B[1;32m   8739\u001B[0m         )\n\u001B[0;32m-> 8740\u001B[0;31m         \u001B[0;32mreturn\u001B[0m \u001B[0mop\u001B[0m\u001B[0;34m.\u001B[0m\u001B[0mapply\u001B[0m\u001B[0;34m(\u001B[0m\u001B[0;34m)\u001B[0m\u001B[0;34m\u001B[0m\u001B[0;34m\u001B[0m\u001B[0m\n\u001B[0m\u001B[1;32m   8741\u001B[0m \u001B[0;34m\u001B[0m\u001B[0m\n\u001B[1;32m   8742\u001B[0m     def applymap(\n",
      "\u001B[0;32m~/.local/share/virtualenvs/cra-ZUCDQa7D/lib/python3.9/site-packages/pandas/core/apply.py\u001B[0m in \u001B[0;36mapply\u001B[0;34m()\u001B[0m\n\u001B[1;32m    686\u001B[0m             \u001B[0;32mreturn\u001B[0m \u001B[0mself\u001B[0m\u001B[0;34m.\u001B[0m\u001B[0mapply_raw\u001B[0m\u001B[0;34m(\u001B[0m\u001B[0;34m)\u001B[0m\u001B[0;34m\u001B[0m\u001B[0;34m\u001B[0m\u001B[0m\n\u001B[1;32m    687\u001B[0m \u001B[0;34m\u001B[0m\u001B[0m\n\u001B[0;32m--> 688\u001B[0;31m         \u001B[0;32mreturn\u001B[0m \u001B[0mself\u001B[0m\u001B[0;34m.\u001B[0m\u001B[0mapply_standard\u001B[0m\u001B[0;34m(\u001B[0m\u001B[0;34m)\u001B[0m\u001B[0;34m\u001B[0m\u001B[0;34m\u001B[0m\u001B[0m\n\u001B[0m\u001B[1;32m    689\u001B[0m \u001B[0;34m\u001B[0m\u001B[0m\n\u001B[1;32m    690\u001B[0m     \u001B[0;32mdef\u001B[0m \u001B[0magg\u001B[0m\u001B[0;34m(\u001B[0m\u001B[0mself\u001B[0m\u001B[0;34m)\u001B[0m\u001B[0;34m:\u001B[0m\u001B[0;34m\u001B[0m\u001B[0;34m\u001B[0m\u001B[0m\n",
      "\u001B[0;32m~/.local/share/virtualenvs/cra-ZUCDQa7D/lib/python3.9/site-packages/pandas/core/apply.py\u001B[0m in \u001B[0;36mapply_standard\u001B[0;34m()\u001B[0m\n\u001B[1;32m    810\u001B[0m \u001B[0;34m\u001B[0m\u001B[0m\n\u001B[1;32m    811\u001B[0m     \u001B[0;32mdef\u001B[0m \u001B[0mapply_standard\u001B[0m\u001B[0;34m(\u001B[0m\u001B[0mself\u001B[0m\u001B[0;34m)\u001B[0m\u001B[0;34m:\u001B[0m\u001B[0;34m\u001B[0m\u001B[0;34m\u001B[0m\u001B[0m\n\u001B[0;32m--> 812\u001B[0;31m         \u001B[0mresults\u001B[0m\u001B[0;34m,\u001B[0m \u001B[0mres_index\u001B[0m \u001B[0;34m=\u001B[0m \u001B[0mself\u001B[0m\u001B[0;34m.\u001B[0m\u001B[0mapply_series_generator\u001B[0m\u001B[0;34m(\u001B[0m\u001B[0;34m)\u001B[0m\u001B[0;34m\u001B[0m\u001B[0;34m\u001B[0m\u001B[0m\n\u001B[0m\u001B[1;32m    813\u001B[0m \u001B[0;34m\u001B[0m\u001B[0m\n\u001B[1;32m    814\u001B[0m         \u001B[0;31m# wrap results\u001B[0m\u001B[0;34m\u001B[0m\u001B[0;34m\u001B[0m\u001B[0;34m\u001B[0m\u001B[0m\n",
      "\u001B[0;32m~/.local/share/virtualenvs/cra-ZUCDQa7D/lib/python3.9/site-packages/pandas/core/apply.py\u001B[0m in \u001B[0;36mapply_series_generator\u001B[0;34m()\u001B[0m\n\u001B[1;32m    826\u001B[0m             \u001B[0;32mfor\u001B[0m \u001B[0mi\u001B[0m\u001B[0;34m,\u001B[0m \u001B[0mv\u001B[0m \u001B[0;32min\u001B[0m \u001B[0menumerate\u001B[0m\u001B[0;34m(\u001B[0m\u001B[0mseries_gen\u001B[0m\u001B[0;34m)\u001B[0m\u001B[0;34m:\u001B[0m\u001B[0;34m\u001B[0m\u001B[0;34m\u001B[0m\u001B[0m\n\u001B[1;32m    827\u001B[0m                 \u001B[0;31m# ignore SettingWithCopy here in case the user mutates\u001B[0m\u001B[0;34m\u001B[0m\u001B[0;34m\u001B[0m\u001B[0;34m\u001B[0m\u001B[0m\n\u001B[0;32m--> 828\u001B[0;31m                 \u001B[0mresults\u001B[0m\u001B[0;34m[\u001B[0m\u001B[0mi\u001B[0m\u001B[0;34m]\u001B[0m \u001B[0;34m=\u001B[0m \u001B[0mself\u001B[0m\u001B[0;34m.\u001B[0m\u001B[0mf\u001B[0m\u001B[0;34m(\u001B[0m\u001B[0mv\u001B[0m\u001B[0;34m)\u001B[0m\u001B[0;34m\u001B[0m\u001B[0;34m\u001B[0m\u001B[0m\n\u001B[0m\u001B[1;32m    829\u001B[0m                 \u001B[0;32mif\u001B[0m \u001B[0misinstance\u001B[0m\u001B[0;34m(\u001B[0m\u001B[0mresults\u001B[0m\u001B[0;34m[\u001B[0m\u001B[0mi\u001B[0m\u001B[0;34m]\u001B[0m\u001B[0;34m,\u001B[0m \u001B[0mABCSeries\u001B[0m\u001B[0;34m)\u001B[0m\u001B[0;34m:\u001B[0m\u001B[0;34m\u001B[0m\u001B[0;34m\u001B[0m\u001B[0m\n\u001B[1;32m    830\u001B[0m                     \u001B[0;31m# If we have a view on v, we need to make a copy because\u001B[0m\u001B[0;34m\u001B[0m\u001B[0;34m\u001B[0m\u001B[0;34m\u001B[0m\u001B[0m\n",
      "\u001B[0;32m/var/folders/4w/fmg2_c4x0q987gc2ly17255c0000gn/T/ipykernel_64468/3277559434.py\u001B[0m in \u001B[0;36m<lambda>\u001B[0;34m()\u001B[0m\n\u001B[0;32m----> 1\u001B[0;31m \u001B[0mresult\u001B[0m \u001B[0;34m=\u001B[0m \u001B[0mddf\u001B[0m\u001B[0;34m.\u001B[0m\u001B[0mapply\u001B[0m\u001B[0;34m(\u001B[0m\u001B[0;32mlambda\u001B[0m \u001B[0mrow\u001B[0m\u001B[0;34m:\u001B[0m \u001B[0mget_zipcode\u001B[0m\u001B[0;34m(\u001B[0m\u001B[0mrow\u001B[0m\u001B[0;34m,\u001B[0m \u001B[0mlat_lon_field\u001B[0m\u001B[0;34m=\u001B[0m\u001B[0;34m'lat_lon'\u001B[0m\u001B[0;34m)\u001B[0m\u001B[0;34m,\u001B[0m \u001B[0maxis\u001B[0m\u001B[0;34m=\u001B[0m\u001B[0;36m1\u001B[0m\u001B[0;34m,\u001B[0m \u001B[0mmeta\u001B[0m\u001B[0;34m=\u001B[0m\u001B[0;34m(\u001B[0m\u001B[0;34m'lat_lon'\u001B[0m\u001B[0;34m,\u001B[0m \u001B[0;34m'O'\u001B[0m\u001B[0;34m)\u001B[0m\u001B[0;34m)\u001B[0m\u001B[0;34m\u001B[0m\u001B[0;34m\u001B[0m\u001B[0m\n\u001B[0m",
      "\u001B[0;32m/var/folders/4w/fmg2_c4x0q987gc2ly17255c0000gn/T/ipykernel_64468/1911863788.py\u001B[0m in \u001B[0;36mget_zipcode\u001B[0;34m()\u001B[0m\n\u001B[1;32m     12\u001B[0m     \u001B[0;32mwhile\u001B[0m \u001B[0mresult\u001B[0m \u001B[0;32mis\u001B[0m \u001B[0;32mNone\u001B[0m\u001B[0;34m:\u001B[0m\u001B[0;34m\u001B[0m\u001B[0;34m\u001B[0m\u001B[0m\n\u001B[1;32m     13\u001B[0m         \u001B[0;32mtry\u001B[0m\u001B[0;34m:\u001B[0m\u001B[0;34m\u001B[0m\u001B[0;34m\u001B[0m\u001B[0m\n\u001B[0;32m---> 14\u001B[0;31m             \u001B[0mlocation\u001B[0m \u001B[0;34m=\u001B[0m \u001B[0mgeolocator\u001B[0m\u001B[0;34m.\u001B[0m\u001B[0mreverse\u001B[0m\u001B[0;34m(\u001B[0m\u001B[0mlat_lon\u001B[0m\u001B[0;34m)\u001B[0m\u001B[0;34m\u001B[0m\u001B[0;34m\u001B[0m\u001B[0m\n\u001B[0m\u001B[1;32m     15\u001B[0m             \u001B[0mresult\u001B[0m \u001B[0;34m=\u001B[0m \u001B[0;36m1\u001B[0m\u001B[0;34m\u001B[0m\u001B[0;34m\u001B[0m\u001B[0m\n\u001B[1;32m     16\u001B[0m         \u001B[0;32mexcept\u001B[0m \u001B[0mGeocoderRateLimited\u001B[0m \u001B[0;32mor\u001B[0m \u001B[0mGeocoderUnavailable\u001B[0m\u001B[0;34m:\u001B[0m\u001B[0;34m\u001B[0m\u001B[0;34m\u001B[0m\u001B[0m\n",
      "\u001B[0;32m~/.local/share/virtualenvs/cra-ZUCDQa7D/lib/python3.9/site-packages/geopy/geocoders/nominatim.py\u001B[0m in \u001B[0;36mreverse\u001B[0;34m()\u001B[0m\n\u001B[1;32m    360\u001B[0m         \u001B[0mlogger\u001B[0m\u001B[0;34m.\u001B[0m\u001B[0mdebug\u001B[0m\u001B[0;34m(\u001B[0m\u001B[0;34m\"%s.reverse: %s\"\u001B[0m\u001B[0;34m,\u001B[0m \u001B[0mself\u001B[0m\u001B[0;34m.\u001B[0m\u001B[0m__class__\u001B[0m\u001B[0;34m.\u001B[0m\u001B[0m__name__\u001B[0m\u001B[0;34m,\u001B[0m \u001B[0murl\u001B[0m\u001B[0;34m)\u001B[0m\u001B[0;34m\u001B[0m\u001B[0;34m\u001B[0m\u001B[0m\n\u001B[1;32m    361\u001B[0m         \u001B[0mcallback\u001B[0m \u001B[0;34m=\u001B[0m \u001B[0mpartial\u001B[0m\u001B[0;34m(\u001B[0m\u001B[0mself\u001B[0m\u001B[0;34m.\u001B[0m\u001B[0m_parse_json\u001B[0m\u001B[0;34m,\u001B[0m \u001B[0mexactly_one\u001B[0m\u001B[0;34m=\u001B[0m\u001B[0mexactly_one\u001B[0m\u001B[0;34m)\u001B[0m\u001B[0;34m\u001B[0m\u001B[0;34m\u001B[0m\u001B[0m\n\u001B[0;32m--> 362\u001B[0;31m         \u001B[0;32mreturn\u001B[0m \u001B[0mself\u001B[0m\u001B[0;34m.\u001B[0m\u001B[0m_call_geocoder\u001B[0m\u001B[0;34m(\u001B[0m\u001B[0murl\u001B[0m\u001B[0;34m,\u001B[0m \u001B[0mcallback\u001B[0m\u001B[0;34m,\u001B[0m \u001B[0mtimeout\u001B[0m\u001B[0;34m=\u001B[0m\u001B[0mtimeout\u001B[0m\u001B[0;34m)\u001B[0m\u001B[0;34m\u001B[0m\u001B[0;34m\u001B[0m\u001B[0m\n\u001B[0m\u001B[1;32m    363\u001B[0m \u001B[0;34m\u001B[0m\u001B[0m\n\u001B[1;32m    364\u001B[0m     \u001B[0;32mdef\u001B[0m \u001B[0m_parse_code\u001B[0m\u001B[0;34m(\u001B[0m\u001B[0mself\u001B[0m\u001B[0;34m,\u001B[0m \u001B[0mplace\u001B[0m\u001B[0;34m)\u001B[0m\u001B[0;34m:\u001B[0m\u001B[0;34m\u001B[0m\u001B[0;34m\u001B[0m\u001B[0m\n",
      "\u001B[0;32m~/.local/share/virtualenvs/cra-ZUCDQa7D/lib/python3.9/site-packages/geopy/geocoders/base.py\u001B[0m in \u001B[0;36m_call_geocoder\u001B[0;34m()\u001B[0m\n\u001B[1;32m    366\u001B[0m         \u001B[0;32mtry\u001B[0m\u001B[0;34m:\u001B[0m\u001B[0;34m\u001B[0m\u001B[0;34m\u001B[0m\u001B[0m\n\u001B[1;32m    367\u001B[0m             \u001B[0;32mif\u001B[0m \u001B[0mis_json\u001B[0m\u001B[0;34m:\u001B[0m\u001B[0;34m\u001B[0m\u001B[0;34m\u001B[0m\u001B[0m\n\u001B[0;32m--> 368\u001B[0;31m                 \u001B[0mresult\u001B[0m \u001B[0;34m=\u001B[0m \u001B[0mself\u001B[0m\u001B[0;34m.\u001B[0m\u001B[0madapter\u001B[0m\u001B[0;34m.\u001B[0m\u001B[0mget_json\u001B[0m\u001B[0;34m(\u001B[0m\u001B[0murl\u001B[0m\u001B[0;34m,\u001B[0m \u001B[0mtimeout\u001B[0m\u001B[0;34m=\u001B[0m\u001B[0mtimeout\u001B[0m\u001B[0;34m,\u001B[0m \u001B[0mheaders\u001B[0m\u001B[0;34m=\u001B[0m\u001B[0mreq_headers\u001B[0m\u001B[0;34m)\u001B[0m\u001B[0;34m\u001B[0m\u001B[0;34m\u001B[0m\u001B[0m\n\u001B[0m\u001B[1;32m    369\u001B[0m             \u001B[0;32melse\u001B[0m\u001B[0;34m:\u001B[0m\u001B[0;34m\u001B[0m\u001B[0;34m\u001B[0m\u001B[0m\n\u001B[1;32m    370\u001B[0m                 \u001B[0mresult\u001B[0m \u001B[0;34m=\u001B[0m \u001B[0mself\u001B[0m\u001B[0;34m.\u001B[0m\u001B[0madapter\u001B[0m\u001B[0;34m.\u001B[0m\u001B[0mget_text\u001B[0m\u001B[0;34m(\u001B[0m\u001B[0murl\u001B[0m\u001B[0;34m,\u001B[0m \u001B[0mtimeout\u001B[0m\u001B[0;34m=\u001B[0m\u001B[0mtimeout\u001B[0m\u001B[0;34m,\u001B[0m \u001B[0mheaders\u001B[0m\u001B[0;34m=\u001B[0m\u001B[0mreq_headers\u001B[0m\u001B[0;34m)\u001B[0m\u001B[0;34m\u001B[0m\u001B[0;34m\u001B[0m\u001B[0m\n",
      "\u001B[0;32m~/.local/share/virtualenvs/cra-ZUCDQa7D/lib/python3.9/site-packages/geopy/adapters.py\u001B[0m in \u001B[0;36mget_json\u001B[0;34m()\u001B[0m\n\u001B[1;32m    436\u001B[0m \u001B[0;34m\u001B[0m\u001B[0m\n\u001B[1;32m    437\u001B[0m     \u001B[0;32mdef\u001B[0m \u001B[0mget_json\u001B[0m\u001B[0;34m(\u001B[0m\u001B[0mself\u001B[0m\u001B[0;34m,\u001B[0m \u001B[0murl\u001B[0m\u001B[0;34m,\u001B[0m \u001B[0;34m*\u001B[0m\u001B[0;34m,\u001B[0m \u001B[0mtimeout\u001B[0m\u001B[0;34m,\u001B[0m \u001B[0mheaders\u001B[0m\u001B[0;34m)\u001B[0m\u001B[0;34m:\u001B[0m\u001B[0;34m\u001B[0m\u001B[0;34m\u001B[0m\u001B[0m\n\u001B[0;32m--> 438\u001B[0;31m         \u001B[0mresp\u001B[0m \u001B[0;34m=\u001B[0m \u001B[0mself\u001B[0m\u001B[0;34m.\u001B[0m\u001B[0m_request\u001B[0m\u001B[0;34m(\u001B[0m\u001B[0murl\u001B[0m\u001B[0;34m,\u001B[0m \u001B[0mtimeout\u001B[0m\u001B[0;34m=\u001B[0m\u001B[0mtimeout\u001B[0m\u001B[0;34m,\u001B[0m \u001B[0mheaders\u001B[0m\u001B[0;34m=\u001B[0m\u001B[0mheaders\u001B[0m\u001B[0;34m)\u001B[0m\u001B[0;34m\u001B[0m\u001B[0;34m\u001B[0m\u001B[0m\n\u001B[0m\u001B[1;32m    439\u001B[0m         \u001B[0;32mtry\u001B[0m\u001B[0;34m:\u001B[0m\u001B[0;34m\u001B[0m\u001B[0;34m\u001B[0m\u001B[0m\n\u001B[1;32m    440\u001B[0m             \u001B[0;32mreturn\u001B[0m \u001B[0mresp\u001B[0m\u001B[0;34m.\u001B[0m\u001B[0mjson\u001B[0m\u001B[0;34m(\u001B[0m\u001B[0;34m)\u001B[0m\u001B[0;34m\u001B[0m\u001B[0;34m\u001B[0m\u001B[0m\n",
      "\u001B[0;32m~/.local/share/virtualenvs/cra-ZUCDQa7D/lib/python3.9/site-packages/geopy/adapters.py\u001B[0m in \u001B[0;36m_request\u001B[0;34m()\u001B[0m\n\u001B[1;32m    458\u001B[0m                     \u001B[0;32mraise\u001B[0m \u001B[0mGeocoderServiceError\u001B[0m\u001B[0;34m(\u001B[0m\u001B[0mmessage\u001B[0m\u001B[0;34m)\u001B[0m\u001B[0;34m\u001B[0m\u001B[0;34m\u001B[0m\u001B[0m\n\u001B[1;32m    459\u001B[0m                 \u001B[0;32melse\u001B[0m\u001B[0;34m:\u001B[0m\u001B[0;34m\u001B[0m\u001B[0;34m\u001B[0m\u001B[0m\n\u001B[0;32m--> 460\u001B[0;31m                     \u001B[0;32mraise\u001B[0m \u001B[0mGeocoderUnavailable\u001B[0m\u001B[0;34m(\u001B[0m\u001B[0mmessage\u001B[0m\u001B[0;34m)\u001B[0m\u001B[0;34m\u001B[0m\u001B[0;34m\u001B[0m\u001B[0m\n\u001B[0m\u001B[1;32m    461\u001B[0m             \u001B[0;32melif\u001B[0m \u001B[0misinstance\u001B[0m\u001B[0;34m(\u001B[0m\u001B[0merror\u001B[0m\u001B[0;34m,\u001B[0m \u001B[0mrequests\u001B[0m\u001B[0;34m.\u001B[0m\u001B[0mTimeout\u001B[0m\u001B[0;34m)\u001B[0m\u001B[0;34m:\u001B[0m\u001B[0;34m\u001B[0m\u001B[0;34m\u001B[0m\u001B[0m\n\u001B[1;32m    462\u001B[0m                 \u001B[0;32mraise\u001B[0m \u001B[0mGeocoderTimedOut\u001B[0m\u001B[0;34m(\u001B[0m\u001B[0;34m\"Service timed out\"\u001B[0m\u001B[0;34m)\u001B[0m\u001B[0;34m\u001B[0m\u001B[0;34m\u001B[0m\u001B[0m\n",
      "\u001B[0;31mGeocoderUnavailable\u001B[0m: HTTPSConnectionPool(host='nominatim.openstreetmap.org', port=443): Max retries exceeded with url: /reverse?lat=37.256&lon=-79.669&format=json&addressdetails=1 (Caused by ReadTimeoutError(\"HTTPSConnectionPool(host='nominatim.openstreetmap.org', port=443): Read timed out. (read timeout=1)\"))"
     ]
    }
   ],
   "source": [
    "# r = result.compute()"
   ],
   "metadata": {
    "collapsed": false,
    "pycharm": {
     "name": "#%%\n"
    }
   }
  },
  {
   "cell_type": "code",
   "execution_count": null,
   "outputs": [],
   "source": [],
   "metadata": {
    "collapsed": false,
    "pycharm": {
     "name": "#%%\n"
    }
   }
  }
 ],
 "metadata": {
  "kernelspec": {
   "display_name": "Python 3",
   "language": "python",
   "name": "python3"
  },
  "language_info": {
   "codemirror_mode": {
    "name": "ipython",
    "version": 2
   },
   "file_extension": ".py",
   "mimetype": "text/x-python",
   "name": "python",
   "nbconvert_exporter": "python",
   "pygments_lexer": "ipython2",
   "version": "2.7.6"
  }
 },
 "nbformat": 4,
 "nbformat_minor": 0
}