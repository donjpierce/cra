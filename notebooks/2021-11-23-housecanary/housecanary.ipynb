{
 "cells": [
  {
   "cell_type": "code",
   "execution_count": 8,
   "outputs": [],
   "source": [
    "import os\n",
    "import pandas as pd\n",
    "from google.cloud import bigquery\n",
    "os.environ[\"GOOGLE_APPLICATION_CREDENTIALS\"] = \"../bigquery_creds.json\"\n",
    "client = bigquery.Client()         # Start the BigQuery Client\n",
    "# Input your Query Syntax here; You may try it first at https://console.cloud.google.com/bigquery\n",
    "QUERY = (\"\"\"\n",
    "    SELECT * FROM `housecanary-com.sample.zip_ts`\n",
    "    TABLESAMPLE SYSTEM (0.5 PERCENT);\n",
    "\"\"\")\n",
    "query_job = client.query(QUERY)    # Start Query API Request\n",
    "query_result = query_job.result()  # Get Query Result\n",
    "df = query_result.to_dataframe()   # Save the Query Resultto Dataframe\n",
    "# ---------------------------------------------\n",
    "# ---- Continue Data Analysis with your DF ----\n",
    "# ---------------------------------------------"
   ],
   "metadata": {
    "collapsed": false,
    "pycharm": {
     "name": "#%%\n"
    }
   }
  },
  {
   "cell_type": "code",
   "execution_count": 9,
   "metadata": {
    "collapsed": true
   },
   "outputs": [
    {
     "data": {
      "text/plain": "                          836         1618        1339\nzip                      94114       94598       94598\nmsa                      41860       41860       41860\nmonth               1997-08-01  2015-09-01  1992-06-01\nhpi_value            51.136849  192.098238   59.958565\nhpi_yoy_pct_chg       0.053237     0.10833   -0.005401\nhpi_distance         -1.229011    0.121992   -0.422382\nhpi_returns           1.009376    1.004057    0.999069\nhpi_real              55.52546  141.242162   74.723522\nhpi_trend            90.691459  188.912274   70.989591\nafford_detrended     -1.102804   -0.760676    0.012403\nafford_pmt            0.567439    0.466686     0.40809\nacceleration_value    0.006277    0.001323   -0.001835\nvelocity_value        0.051868    0.102854   -0.005416",
      "text/html": "<div>\n<style scoped>\n    .dataframe tbody tr th:only-of-type {\n        vertical-align: middle;\n    }\n\n    .dataframe tbody tr th {\n        vertical-align: top;\n    }\n\n    .dataframe thead th {\n        text-align: right;\n    }\n</style>\n<table border=\"1\" class=\"dataframe\">\n  <thead>\n    <tr style=\"text-align: right;\">\n      <th></th>\n      <th>836</th>\n      <th>1618</th>\n      <th>1339</th>\n    </tr>\n  </thead>\n  <tbody>\n    <tr>\n      <th>zip</th>\n      <td>94114</td>\n      <td>94598</td>\n      <td>94598</td>\n    </tr>\n    <tr>\n      <th>msa</th>\n      <td>41860</td>\n      <td>41860</td>\n      <td>41860</td>\n    </tr>\n    <tr>\n      <th>month</th>\n      <td>1997-08-01</td>\n      <td>2015-09-01</td>\n      <td>1992-06-01</td>\n    </tr>\n    <tr>\n      <th>hpi_value</th>\n      <td>51.136849</td>\n      <td>192.098238</td>\n      <td>59.958565</td>\n    </tr>\n    <tr>\n      <th>hpi_yoy_pct_chg</th>\n      <td>0.053237</td>\n      <td>0.10833</td>\n      <td>-0.005401</td>\n    </tr>\n    <tr>\n      <th>hpi_distance</th>\n      <td>-1.229011</td>\n      <td>0.121992</td>\n      <td>-0.422382</td>\n    </tr>\n    <tr>\n      <th>hpi_returns</th>\n      <td>1.009376</td>\n      <td>1.004057</td>\n      <td>0.999069</td>\n    </tr>\n    <tr>\n      <th>hpi_real</th>\n      <td>55.52546</td>\n      <td>141.242162</td>\n      <td>74.723522</td>\n    </tr>\n    <tr>\n      <th>hpi_trend</th>\n      <td>90.691459</td>\n      <td>188.912274</td>\n      <td>70.989591</td>\n    </tr>\n    <tr>\n      <th>afford_detrended</th>\n      <td>-1.102804</td>\n      <td>-0.760676</td>\n      <td>0.012403</td>\n    </tr>\n    <tr>\n      <th>afford_pmt</th>\n      <td>0.567439</td>\n      <td>0.466686</td>\n      <td>0.40809</td>\n    </tr>\n    <tr>\n      <th>acceleration_value</th>\n      <td>0.006277</td>\n      <td>0.001323</td>\n      <td>-0.001835</td>\n    </tr>\n    <tr>\n      <th>velocity_value</th>\n      <td>0.051868</td>\n      <td>0.102854</td>\n      <td>-0.005416</td>\n    </tr>\n  </tbody>\n</table>\n</div>"
     },
     "execution_count": 9,
     "metadata": {},
     "output_type": "execute_result"
    }
   ],
   "source": [
    "df.sample(3).T"
   ]
  },
  {
   "cell_type": "code",
   "execution_count": null,
   "outputs": [],
   "source": [],
   "metadata": {
    "collapsed": false,
    "pycharm": {
     "name": "#%%\n"
    }
   }
  }
 ],
 "metadata": {
  "kernelspec": {
   "display_name": "Python 3",
   "language": "python",
   "name": "python3"
  },
  "language_info": {
   "codemirror_mode": {
    "name": "ipython",
    "version": 2
   },
   "file_extension": ".py",
   "mimetype": "text/x-python",
   "name": "python",
   "nbconvert_exporter": "python",
   "pygments_lexer": "ipython2",
   "version": "2.7.6"
  }
 },
 "nbformat": 4,
 "nbformat_minor": 0
}